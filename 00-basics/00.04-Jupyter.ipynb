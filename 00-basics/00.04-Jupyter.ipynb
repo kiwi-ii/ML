{
 "cells": [
  {
   "cell_type": "code",
   "execution_count": null,
   "metadata": {},
   "outputs": [],
   "source": [
    "\n",
    "# Cell可以多行输出\n",
    "from IPython.core.interactiveshell import InteractiveShell\n",
    "InteractiveShell.ast_node_interactivity = \"all\"\n"
   ]
  },
  {
   "cell_type": "markdown",
   "metadata": {},
   "source": [
    "# IPython\n",
    "\n",
    "**IPython**是一个增强的交互式Python解释器，**Jupyter Notebook**是一种在Web上进行交互式计算的环境，使用IPython作为默认的计算核心，"
   ]
  },
  {
   "cell_type": "markdown",
   "metadata": {},
   "source": [
    "\n",
    "## IPython特点：\n",
    "\n",
    "1. **交互式**：允许用户逐行输入和执行Python代码，并立即看到结果。这使得调试和实验性编程更加容易（类似matlab）\n",
    "2. **自动补全**：可以根据已输入的代码和已导入的模块，自动提示可能的方法、属性和变量，`Tab`补全命令。\n",
    "3. **命令历史记录**：会记录用户输入的命令历史，可以通过上下箭头键浏览和重新执行之前的命令。\n",
    "4. **魔术命令**：提供了一系列特殊的命令，称为魔术命令，可以执行一些高级操作，如性能分析、调试、图形绘制等。\n",
    "5. **富文本输出**：可以显示丰富的输出，包括图形、表格、音频和视频等。"
   ]
  },
  {
   "cell_type": "markdown",
   "metadata": {},
   "source": [
    "## IPython使用\n",
    "\n",
    "命令行下输入 `ipython` 即可进入**ipython**解释器，Jupyter中的代码块默认为IPython解释器\n",
    "\n",
    "所有在**python**解释器下可以运行的代码都可以在**ipython**解释器下运行："
   ]
  },
  {
   "cell_type": "code",
   "execution_count": 1,
   "metadata": {
    "collapsed": false,
    "scrolled": true
   },
   "outputs": [
    {
     "name": "stdout",
     "output_type": "stream",
     "text": [
      "hello, world\n"
     ]
    }
   ],
   "source": [
    "print(\"hello, world\")"
   ]
  },
  {
   "cell_type": "markdown",
   "metadata": {},
   "source": [
    "可以进行简单赋值操作："
   ]
  },
  {
   "cell_type": "code",
   "execution_count": 5,
   "metadata": {
    "collapsed": true
   },
   "outputs": [],
   "source": [
    "a = [1, 2, 3]"
   ]
  },
  {
   "cell_type": "markdown",
   "metadata": {},
   "source": [
    "直接在解释器中输入变量名，会显示变量的值（不需要加`print`）："
   ]
  },
  {
   "cell_type": "code",
   "execution_count": 6,
   "metadata": {
    "collapsed": false
   },
   "outputs": [
    {
     "data": {
      "text/plain": [
       "[1, 2, 3]"
      ]
     },
     "execution_count": 6,
     "metadata": {},
     "output_type": "execute_result"
    }
   ],
   "source": [
    "a"
   ]
  },
  {
   "cell_type": "markdown",
   "metadata": {},
   "source": [
    "## magic命令"
   ]
  },
  {
   "cell_type": "markdown",
   "metadata": {},
   "source": [
    "**ipython**解释器提供了很多以百分号`%`开头的`magic`命令，这些命令很像linux系统下的命令行命令（事实上有些是一样的）。\n",
    "\n",
    "查看所有的`magic`命令："
   ]
  },
  {
   "cell_type": "code",
   "execution_count": 7,
   "metadata": {
    "collapsed": false
   },
   "outputs": [
    {
     "data": {
      "application/json": {
       "cell": {
        "!": "OSMagics",
        "HTML": "Other",
        "SVG": "Other",
        "bash": "Other",
        "capture": "ExecutionMagics",
        "code_wrap": "ExecutionMagics",
        "debug": "ExecutionMagics",
        "file": "Other",
        "html": "DisplayMagics",
        "javascript": "DisplayMagics",
        "js": "DisplayMagics",
        "latex": "DisplayMagics",
        "markdown": "DisplayMagics",
        "perl": "Other",
        "prun": "ExecutionMagics",
        "pypy": "Other",
        "python": "Other",
        "python2": "Other",
        "python3": "Other",
        "ruby": "Other",
        "script": "ScriptMagics",
        "sh": "Other",
        "svg": "DisplayMagics",
        "sx": "OSMagics",
        "system": "OSMagics",
        "time": "ExecutionMagics",
        "timeit": "ExecutionMagics",
        "writefile": "OSMagics"
       },
       "line": {
        "alias": "OSMagics",
        "alias_magic": "BasicMagics",
        "autoawait": "AsyncMagics",
        "autocall": "AutoMagics",
        "automagic": "AutoMagics",
        "autosave": "KernelMagics",
        "bookmark": "OSMagics",
        "cat": "Other",
        "cd": "OSMagics",
        "clear": "KernelMagics",
        "code_wrap": "ExecutionMagics",
        "colors": "BasicMagics",
        "conda": "PackagingMagics",
        "config": "ConfigMagics",
        "connect_info": "KernelMagics",
        "cp": "Other",
        "debug": "ExecutionMagics",
        "dhist": "OSMagics",
        "dirs": "OSMagics",
        "doctest_mode": "BasicMagics",
        "ed": "Other",
        "edit": "KernelMagics",
        "env": "OSMagics",
        "gui": "BasicMagics",
        "hist": "Other",
        "history": "HistoryMagics",
        "killbgscripts": "ScriptMagics",
        "ldir": "Other",
        "less": "KernelMagics",
        "lf": "Other",
        "lk": "Other",
        "ll": "Other",
        "load": "CodeMagics",
        "load_ext": "ExtensionMagics",
        "loadpy": "CodeMagics",
        "logoff": "LoggingMagics",
        "logon": "LoggingMagics",
        "logstart": "LoggingMagics",
        "logstate": "LoggingMagics",
        "logstop": "LoggingMagics",
        "ls": "Other",
        "lsmagic": "BasicMagics",
        "lx": "Other",
        "macro": "ExecutionMagics",
        "magic": "BasicMagics",
        "mamba": "PackagingMagics",
        "man": "KernelMagics",
        "matplotlib": "PylabMagics",
        "micromamba": "PackagingMagics",
        "mkdir": "Other",
        "more": "KernelMagics",
        "mv": "Other",
        "notebook": "BasicMagics",
        "page": "BasicMagics",
        "pastebin": "CodeMagics",
        "pdb": "ExecutionMagics",
        "pdef": "NamespaceMagics",
        "pdoc": "NamespaceMagics",
        "pfile": "NamespaceMagics",
        "pinfo": "NamespaceMagics",
        "pinfo2": "NamespaceMagics",
        "pip": "PackagingMagics",
        "popd": "OSMagics",
        "pprint": "BasicMagics",
        "precision": "BasicMagics",
        "prun": "ExecutionMagics",
        "psearch": "NamespaceMagics",
        "psource": "NamespaceMagics",
        "pushd": "OSMagics",
        "pwd": "OSMagics",
        "pycat": "OSMagics",
        "pylab": "PylabMagics",
        "qtconsole": "KernelMagics",
        "quickref": "BasicMagics",
        "recall": "HistoryMagics",
        "rehashx": "OSMagics",
        "reload_ext": "ExtensionMagics",
        "rep": "Other",
        "rerun": "HistoryMagics",
        "reset": "NamespaceMagics",
        "reset_selective": "NamespaceMagics",
        "rm": "Other",
        "rmdir": "Other",
        "run": "ExecutionMagics",
        "save": "CodeMagics",
        "sc": "OSMagics",
        "set_env": "OSMagics",
        "store": "StoreMagics",
        "sx": "OSMagics",
        "system": "OSMagics",
        "tb": "ExecutionMagics",
        "time": "ExecutionMagics",
        "timeit": "ExecutionMagics",
        "unalias": "OSMagics",
        "unload_ext": "ExtensionMagics",
        "who": "NamespaceMagics",
        "who_ls": "NamespaceMagics",
        "whos": "NamespaceMagics",
        "xdel": "NamespaceMagics",
        "xmode": "BasicMagics"
       }
      },
      "text/plain": [
       "Available line magics:\n",
       "%alias  %alias_magic  %autoawait  %autocall  %automagic  %autosave  %bookmark  %cat  %cd  %clear  %code_wrap  %colors  %conda  %config  %connect_info  %cp  %debug  %dhist  %dirs  %doctest_mode  %ed  %edit  %env  %gui  %hist  %history  %killbgscripts  %ldir  %less  %lf  %lk  %ll  %load  %load_ext  %loadpy  %logoff  %logon  %logstart  %logstate  %logstop  %ls  %lsmagic  %lx  %macro  %magic  %mamba  %man  %matplotlib  %micromamba  %mkdir  %more  %mv  %notebook  %page  %pastebin  %pdb  %pdef  %pdoc  %pfile  %pinfo  %pinfo2  %pip  %popd  %pprint  %precision  %prun  %psearch  %psource  %pushd  %pwd  %pycat  %pylab  %qtconsole  %quickref  %recall  %rehashx  %reload_ext  %rep  %rerun  %reset  %reset_selective  %rm  %rmdir  %run  %save  %sc  %set_env  %store  %sx  %system  %tb  %time  %timeit  %unalias  %unload_ext  %who  %who_ls  %whos  %xdel  %xmode\n",
       "\n",
       "Available cell magics:\n",
       "%%!  %%HTML  %%SVG  %%bash  %%capture  %%code_wrap  %%debug  %%file  %%html  %%javascript  %%js  %%latex  %%markdown  %%perl  %%prun  %%pypy  %%python  %%python2  %%python3  %%ruby  %%script  %%sh  %%svg  %%sx  %%system  %%time  %%timeit  %%writefile\n",
       "\n",
       "Automagic is ON, % prefix IS NOT needed for line magics."
      ]
     },
     "execution_count": 7,
     "metadata": {},
     "output_type": "execute_result"
    }
   ],
   "source": [
    "%lsmagic"
   ]
  },
  {
   "cell_type": "markdown",
   "metadata": {},
   "source": [
    "### 分为line和cell两种\n",
    "\n",
    "`line magic` 以一个百分号开头，作用一行；\n",
    "\n",
    "`cell magic` 以两个百分号开头，作用整个cell。\n",
    "\n",
    "最后一行`Automagic is ON, % prefix IS NOT needed for line magics.`说明在此时即使不加上`%`也可以使用这些命令。"
   ]
  },
  {
   "cell_type": "markdown",
   "metadata": {},
   "source": [
    "### 常用命令\n",
    "\n",
    "| 命令 | 作用 |\n",
    "| --- | --- |\n",
    "| `whos` | 查看当前的变量空间 |\n",
    "|`reset` |重置当前变量空间|\n",
    "|`pwd` |查看当前工作文件夹|\n",
    "|`mkdir` |产生新文件夹|\n",
    "|`rmdir` |删除文件夹 |\n",
    "|`cd` |改变工作文件夹|\n",
    "|`writefile`| 将cell中的内容写入文件|\n",
    "|`ls` |查看当前工作文件夹的文件 |\n",
    "|`run`| 命令来运行脚本 |\n",
    "| `hist` | 查看历史命令 |"
   ]
  },
  {
   "cell_type": "markdown",
   "metadata": {},
   "source": [
    "使用 `whos` 查看当前的变量空间："
   ]
  },
  {
   "cell_type": "code",
   "execution_count": 9,
   "metadata": {
    "collapsed": false
   },
   "outputs": [
    {
     "name": "stdout",
     "output_type": "stream",
     "text": [
      "Variable   Type    Data/Info\n",
      "----------------------------\n",
      "a          list    n=3\n",
      "b          list    n=3\n"
     ]
    }
   ],
   "source": [
    "%whos"
   ]
  },
  {
   "cell_type": "markdown",
   "metadata": {},
   "source": [
    "使用 `reset` 重置当前变量空间："
   ]
  },
  {
   "cell_type": "code",
   "execution_count": 7,
   "metadata": {
    "collapsed": false
   },
   "outputs": [],
   "source": [
    "%reset -f"
   ]
  },
  {
   "cell_type": "markdown",
   "metadata": {},
   "source": [
    "再查看当前变量空间："
   ]
  },
  {
   "cell_type": "code",
   "execution_count": 8,
   "metadata": {
    "collapsed": false
   },
   "outputs": [
    {
     "name": "stdout",
     "output_type": "stream",
     "text": [
      "Interactive namespace is empty.\n"
     ]
    }
   ],
   "source": [
    "%whos"
   ]
  },
  {
   "cell_type": "markdown",
   "metadata": {},
   "source": [
    "使用 `pwd` 查看当前工作文件夹："
   ]
  },
  {
   "cell_type": "code",
   "execution_count": 9,
   "metadata": {
    "collapsed": false
   },
   "outputs": [
    {
     "data": {
      "text/plain": [
       "u'C:\\\\Users\\\\lijin\\\\Documents\\\\Git\\\\python-tutorial\\\\01. python tools'"
      ]
     },
     "execution_count": 9,
     "metadata": {},
     "output_type": "execute_result"
    }
   ],
   "source": [
    "%pwd"
   ]
  },
  {
   "cell_type": "markdown",
   "metadata": {},
   "source": [
    "使用 `mkdir` 产生新文件夹："
   ]
  },
  {
   "cell_type": "code",
   "execution_count": 10,
   "metadata": {
    "collapsed": false
   },
   "outputs": [],
   "source": [
    "%mkdir demo_test"
   ]
  },
  {
   "cell_type": "markdown",
   "metadata": {},
   "source": [
    "使用 `cd` 改变工作文件夹："
   ]
  },
  {
   "cell_type": "code",
   "execution_count": 11,
   "metadata": {
    "collapsed": false
   },
   "outputs": [
    {
     "name": "stdout",
     "output_type": "stream",
     "text": [
      "C:\\Users\\lijin\\Documents\\Git\\python-tutorial\\01. python tools\\demo_test\n"
     ]
    }
   ],
   "source": [
    "%cd demo_test/"
   ]
  },
  {
   "cell_type": "markdown",
   "metadata": {},
   "source": [
    "使用 `writefile` 将cell中的内容写入文件："
   ]
  },
  {
   "cell_type": "code",
   "execution_count": 12,
   "metadata": {
    "collapsed": false,
    "scrolled": true
   },
   "outputs": [
    {
     "name": "stdout",
     "output_type": "stream",
     "text": [
      "Writing hello_world.py\n"
     ]
    }
   ],
   "source": [
    "%%writefile hello_world.py\n",
    "print \"hello world\""
   ]
  },
  {
   "cell_type": "markdown",
   "metadata": {},
   "source": [
    "使用 `ls` 查看当前工作文件夹的文件："
   ]
  },
  {
   "cell_type": "code",
   "execution_count": 13,
   "metadata": {
    "collapsed": false
   },
   "outputs": [
    {
     "name": "stdout",
     "output_type": "stream",
     "text": [
      " 驱动器 C 中的卷是 System\n",
      " 卷的序列号是 DC4B-D785\n",
      "\n",
      " C:\\Users\\lijin\\Documents\\Git\\python-tutorial\\01. python tools\\demo_test 的目录\n",
      "\n",
      "2015/09/18  11:32    <DIR>          .\n",
      "2015/09/18  11:32    <DIR>          ..\n",
      "2015/09/18  11:32                19 hello_world.py\n",
      "               1 个文件             19 字节\n",
      "               2 个目录 121,763,831,808 可用字节\n"
     ]
    }
   ],
   "source": [
    "%ls"
   ]
  },
  {
   "cell_type": "markdown",
   "metadata": {},
   "source": [
    "使用 `run` 命令来运行这个代码："
   ]
  },
  {
   "cell_type": "code",
   "execution_count": 14,
   "metadata": {
    "collapsed": false
   },
   "outputs": [
    {
     "name": "stdout",
     "output_type": "stream",
     "text": [
      "hello world\n"
     ]
    }
   ],
   "source": [
    "%run hello_world.py"
   ]
  },
  {
   "cell_type": "markdown",
   "metadata": {},
   "source": [
    "删除这个文件："
   ]
  },
  {
   "cell_type": "code",
   "execution_count": 15,
   "metadata": {
    "collapsed": true
   },
   "outputs": [],
   "source": [
    "import os\n",
    "os.remove('hello_world.py')"
   ]
  },
  {
   "cell_type": "markdown",
   "metadata": {},
   "source": [
    "查看当前文件夹，`hello_world.py` 已被删除："
   ]
  },
  {
   "cell_type": "code",
   "execution_count": 16,
   "metadata": {
    "collapsed": false
   },
   "outputs": [
    {
     "name": "stdout",
     "output_type": "stream",
     "text": [
      " 驱动器 C 中的卷是 System\n",
      " 卷的序列号是 DC4B-D785\n",
      "\n",
      " C:\\Users\\lijin\\Documents\\Git\\python-tutorial\\01. python tools\\demo_test 的目录\n",
      "\n",
      "2015/09/18  11:32    <DIR>          .\n",
      "2015/09/18  11:32    <DIR>          ..\n",
      "               0 个文件              0 字节\n",
      "               2 个目录 121,763,831,808 可用字节\n"
     ]
    }
   ],
   "source": [
    "%ls"
   ]
  },
  {
   "cell_type": "markdown",
   "metadata": {},
   "source": [
    "返回上一层文件夹："
   ]
  },
  {
   "cell_type": "code",
   "execution_count": 17,
   "metadata": {
    "collapsed": false,
    "scrolled": true
   },
   "outputs": [
    {
     "name": "stdout",
     "output_type": "stream",
     "text": [
      "C:\\Users\\lijin\\Documents\\Git\\python-tutorial\\01. python tools\n"
     ]
    }
   ],
   "source": [
    "%cd .."
   ]
  },
  {
   "cell_type": "markdown",
   "metadata": {},
   "source": [
    "使用 `rmdir` 删除文件夹："
   ]
  },
  {
   "cell_type": "code",
   "execution_count": 18,
   "metadata": {
    "collapsed": false
   },
   "outputs": [],
   "source": [
    "%rmdir demo_test"
   ]
  },
  {
   "cell_type": "markdown",
   "metadata": {},
   "source": [
    "使用 `hist` 查看历史命令："
   ]
  },
  {
   "cell_type": "code",
   "execution_count": 19,
   "metadata": {
    "collapsed": false
   },
   "outputs": [
    {
     "name": "stdout",
     "output_type": "stream",
     "text": [
      "print \"hello, world\"\n",
      "a = 1\n",
      "a\n",
      "b = [1, 2, 3]\n",
      "%lsmagic\n",
      "%whos\n",
      "%reset -f\n",
      "%whos\n",
      "%pwd\n",
      "%mkdir demo_test\n",
      "%cd demo_test/\n",
      "%%writefile hello_world.py\n",
      "print \"hello world\"\n",
      "%ls\n",
      "%run hello_world.py\n",
      "import os\n",
      "os.remove('hello_world.py')\n",
      "%ls\n",
      "%cd ..\n",
      "%rmdir demo_test\n",
      "%hist\n"
     ]
    }
   ],
   "source": [
    "%hist"
   ]
  },
  {
   "cell_type": "markdown",
   "metadata": {},
   "source": [
    "### 执行系统命令\n",
    "\n",
    "可以使用 `!` 来执行一些系统命令。"
   ]
  },
  {
   "cell_type": "code",
   "execution_count": 15,
   "metadata": {},
   "outputs": [
    {
     "name": "stdout",
     "output_type": "stream",
     "text": [
      "PING baidu.com (110.242.68.66) 56(84) bytes of data.\n",
      "64 bytes from 110.242.68.66 (110.242.68.66): icmp_seq=1 ttl=49 time=42.5 ms\n",
      "64 bytes from 110.242.68.66 (110.242.68.66): icmp_seq=2 ttl=49 time=50.0 ms\n",
      "64 bytes from 110.242.68.66 (110.242.68.66): icmp_seq=3 ttl=49 time=48.2 ms\n",
      "64 bytes from 110.242.68.66 (110.242.68.66): icmp_seq=4 ttl=49 time=45.1 ms\n",
      "64 bytes from 110.242.68.66 (110.242.68.66): icmp_seq=5 ttl=49 time=41.0 ms\n",
      "64 bytes from 110.242.68.66 (110.242.68.66): icmp_seq=6 ttl=49 time=41.7 ms\n",
      "^C\n",
      "64 bytes from 110.242.68.66: icmp_seq=7 ttl=49 time=48.3 ms\n",
      "\n",
      "--- baidu.com ping statistics ---\n",
      "7 packets transmitted, 7 received, 0% packet loss, time 6382ms\n",
      "rtt min/avg/max/mdev = 41.008/45.272/50.002/3.364 ms\n"
     ]
    }
   ],
   "source": [
    "!ping baidu.com"
   ]
  },
  {
   "cell_type": "markdown",
   "metadata": {},
   "source": [
    "### 查看帮助"
   ]
  },
  {
   "cell_type": "markdown",
   "metadata": {},
   "source": [
    "使用 `?` 查看函数的帮助："
   ]
  },
  {
   "cell_type": "code",
   "execution_count": 16,
   "metadata": {
    "collapsed": false
   },
   "outputs": [
    {
     "name": "stdout",
     "output_type": "stream",
     "text": [
      "\u001b[0;31mSignature:\u001b[0m \u001b[0msum\u001b[0m\u001b[0;34m(\u001b[0m\u001b[0miterable\u001b[0m\u001b[0;34m,\u001b[0m \u001b[0;34m/\u001b[0m\u001b[0;34m,\u001b[0m \u001b[0mstart\u001b[0m\u001b[0;34m=\u001b[0m\u001b[0;36m0\u001b[0m\u001b[0;34m)\u001b[0m\u001b[0;34m\u001b[0m\u001b[0;34m\u001b[0m\u001b[0m\n",
      "\u001b[0;31mDocstring:\u001b[0m\n",
      "Return the sum of a 'start' value (default: 0) plus an iterable of numbers\n",
      "\n",
      "When the iterable is empty, return the start value.\n",
      "This function is intended specifically for use with numeric values and may\n",
      "reject non-numeric types.\n",
      "\u001b[0;31mType:\u001b[0m      builtin_function_or_method"
     ]
    }
   ],
   "source": [
    "sum?"
   ]
  },
  {
   "cell_type": "markdown",
   "metadata": {},
   "source": [
    "使用 `??` 查看函数帮助和函数源代码（如果是用**python**实现的）："
   ]
  },
  {
   "cell_type": "code",
   "execution_count": 17,
   "metadata": {
    "collapsed": false
   },
   "outputs": [
    {
     "name": "stdout",
     "output_type": "stream",
     "text": [
      "Using matplotlib backend: <object object at 0x7f629c460f70>\n",
      "%pylab is deprecated, use %matplotlib inline and import the required libraries.\n",
      "Populating the interactive namespace from numpy and matplotlib\n"
     ]
    },
    {
     "name": "stdout",
     "output_type": "stream",
     "text": [
      "\u001b[0;31mSignature:\u001b[0m       \u001b[0msort\u001b[0m\u001b[0;34m(\u001b[0m\u001b[0ma\u001b[0m\u001b[0;34m,\u001b[0m \u001b[0maxis\u001b[0m\u001b[0;34m=\u001b[0m\u001b[0;34m-\u001b[0m\u001b[0;36m1\u001b[0m\u001b[0;34m,\u001b[0m \u001b[0mkind\u001b[0m\u001b[0;34m=\u001b[0m\u001b[0;32mNone\u001b[0m\u001b[0;34m,\u001b[0m \u001b[0morder\u001b[0m\u001b[0;34m=\u001b[0m\u001b[0;32mNone\u001b[0m\u001b[0;34m)\u001b[0m\u001b[0;34m\u001b[0m\u001b[0;34m\u001b[0m\u001b[0m\n",
      "\u001b[0;31mCall signature:\u001b[0m  \u001b[0msort\u001b[0m\u001b[0;34m(\u001b[0m\u001b[0;34m*\u001b[0m\u001b[0margs\u001b[0m\u001b[0;34m,\u001b[0m \u001b[0;34m**\u001b[0m\u001b[0mkwargs\u001b[0m\u001b[0;34m)\u001b[0m\u001b[0;34m\u001b[0m\u001b[0;34m\u001b[0m\u001b[0m\n",
      "\u001b[0;31mType:\u001b[0m            _ArrayFunctionDispatcher\n",
      "\u001b[0;31mString form:\u001b[0m     <function sort at 0x7f629c4c7880>\n",
      "\u001b[0;31mFile:\u001b[0m            ~/anaconda3/envs/ml/lib/python3.12/site-packages/numpy/core/fromnumeric.py\n",
      "\u001b[0;31mSource:\u001b[0m         \n",
      "\u001b[0;34m@\u001b[0m\u001b[0marray_function_dispatch\u001b[0m\u001b[0;34m(\u001b[0m\u001b[0m_sort_dispatcher\u001b[0m\u001b[0;34m)\u001b[0m\u001b[0;34m\u001b[0m\n",
      "\u001b[0;34m\u001b[0m\u001b[0;32mdef\u001b[0m \u001b[0msort\u001b[0m\u001b[0;34m(\u001b[0m\u001b[0ma\u001b[0m\u001b[0;34m,\u001b[0m \u001b[0maxis\u001b[0m\u001b[0;34m=\u001b[0m\u001b[0;34m-\u001b[0m\u001b[0;36m1\u001b[0m\u001b[0;34m,\u001b[0m \u001b[0mkind\u001b[0m\u001b[0;34m=\u001b[0m\u001b[0;32mNone\u001b[0m\u001b[0;34m,\u001b[0m \u001b[0morder\u001b[0m\u001b[0;34m=\u001b[0m\u001b[0;32mNone\u001b[0m\u001b[0;34m)\u001b[0m\u001b[0;34m:\u001b[0m\u001b[0;34m\u001b[0m\n",
      "\u001b[0;34m\u001b[0m    \u001b[0;34m\"\"\"\u001b[0m\n",
      "\u001b[0;34m    Return a sorted copy of an array.\u001b[0m\n",
      "\u001b[0;34m\u001b[0m\n",
      "\u001b[0;34m    Parameters\u001b[0m\n",
      "\u001b[0;34m    ----------\u001b[0m\n",
      "\u001b[0;34m    a : array_like\u001b[0m\n",
      "\u001b[0;34m        Array to be sorted.\u001b[0m\n",
      "\u001b[0;34m    axis : int or None, optional\u001b[0m\n",
      "\u001b[0;34m        Axis along which to sort. If None, the array is flattened before\u001b[0m\n",
      "\u001b[0;34m        sorting. The default is -1, which sorts along the last axis.\u001b[0m\n",
      "\u001b[0;34m    kind : {'quicksort', 'mergesort', 'heapsort', 'stable'}, optional\u001b[0m\n",
      "\u001b[0;34m        Sorting algorithm. The default is 'quicksort'. Note that both 'stable'\u001b[0m\n",
      "\u001b[0;34m        and 'mergesort' use timsort or radix sort under the covers and, in general,\u001b[0m\n",
      "\u001b[0;34m        the actual implementation will vary with data type. The 'mergesort' option\u001b[0m\n",
      "\u001b[0;34m        is retained for backwards compatibility.\u001b[0m\n",
      "\u001b[0;34m\u001b[0m\n",
      "\u001b[0;34m        .. versionchanged:: 1.15.0.\u001b[0m\n",
      "\u001b[0;34m           The 'stable' option was added.\u001b[0m\n",
      "\u001b[0;34m\u001b[0m\n",
      "\u001b[0;34m    order : str or list of str, optional\u001b[0m\n",
      "\u001b[0;34m        When `a` is an array with fields defined, this argument specifies\u001b[0m\n",
      "\u001b[0;34m        which fields to compare first, second, etc.  A single field can\u001b[0m\n",
      "\u001b[0;34m        be specified as a string, and not all fields need be specified,\u001b[0m\n",
      "\u001b[0;34m        but unspecified fields will still be used, in the order in which\u001b[0m\n",
      "\u001b[0;34m        they come up in the dtype, to break ties.\u001b[0m\n",
      "\u001b[0;34m\u001b[0m\n",
      "\u001b[0;34m    Returns\u001b[0m\n",
      "\u001b[0;34m    -------\u001b[0m\n",
      "\u001b[0;34m    sorted_array : ndarray\u001b[0m\n",
      "\u001b[0;34m        Array of the same type and shape as `a`.\u001b[0m\n",
      "\u001b[0;34m\u001b[0m\n",
      "\u001b[0;34m    See Also\u001b[0m\n",
      "\u001b[0;34m    --------\u001b[0m\n",
      "\u001b[0;34m    ndarray.sort : Method to sort an array in-place.\u001b[0m\n",
      "\u001b[0;34m    argsort : Indirect sort.\u001b[0m\n",
      "\u001b[0;34m    lexsort : Indirect stable sort on multiple keys.\u001b[0m\n",
      "\u001b[0;34m    searchsorted : Find elements in a sorted array.\u001b[0m\n",
      "\u001b[0;34m    partition : Partial sort.\u001b[0m\n",
      "\u001b[0;34m\u001b[0m\n",
      "\u001b[0;34m    Notes\u001b[0m\n",
      "\u001b[0;34m    -----\u001b[0m\n",
      "\u001b[0;34m    The various sorting algorithms are characterized by their average speed,\u001b[0m\n",
      "\u001b[0;34m    worst case performance, work space size, and whether they are stable. A\u001b[0m\n",
      "\u001b[0;34m    stable sort keeps items with the same key in the same relative\u001b[0m\n",
      "\u001b[0;34m    order. The four algorithms implemented in NumPy have the following\u001b[0m\n",
      "\u001b[0;34m    properties:\u001b[0m\n",
      "\u001b[0;34m\u001b[0m\n",
      "\u001b[0;34m    =========== ======= ============= ============ ========\u001b[0m\n",
      "\u001b[0;34m       kind      speed   worst case    work space   stable\u001b[0m\n",
      "\u001b[0;34m    =========== ======= ============= ============ ========\u001b[0m\n",
      "\u001b[0;34m    'quicksort'    1     O(n^2)            0          no\u001b[0m\n",
      "\u001b[0;34m    'heapsort'     3     O(n*log(n))       0          no\u001b[0m\n",
      "\u001b[0;34m    'mergesort'    2     O(n*log(n))      ~n/2        yes\u001b[0m\n",
      "\u001b[0;34m    'timsort'      2     O(n*log(n))      ~n/2        yes\u001b[0m\n",
      "\u001b[0;34m    =========== ======= ============= ============ ========\u001b[0m\n",
      "\u001b[0;34m\u001b[0m\n",
      "\u001b[0;34m    .. note:: The datatype determines which of 'mergesort' or 'timsort'\u001b[0m\n",
      "\u001b[0;34m       is actually used, even if 'mergesort' is specified. User selection\u001b[0m\n",
      "\u001b[0;34m       at a finer scale is not currently available.\u001b[0m\n",
      "\u001b[0;34m\u001b[0m\n",
      "\u001b[0;34m    All the sort algorithms make temporary copies of the data when\u001b[0m\n",
      "\u001b[0;34m    sorting along any but the last axis.  Consequently, sorting along\u001b[0m\n",
      "\u001b[0;34m    the last axis is faster and uses less space than sorting along\u001b[0m\n",
      "\u001b[0;34m    any other axis.\u001b[0m\n",
      "\u001b[0;34m\u001b[0m\n",
      "\u001b[0;34m    The sort order for complex numbers is lexicographic. If both the real\u001b[0m\n",
      "\u001b[0;34m    and imaginary parts are non-nan then the order is determined by the\u001b[0m\n",
      "\u001b[0;34m    real parts except when they are equal, in which case the order is\u001b[0m\n",
      "\u001b[0;34m    determined by the imaginary parts.\u001b[0m\n",
      "\u001b[0;34m\u001b[0m\n",
      "\u001b[0;34m    Previous to numpy 1.4.0 sorting real and complex arrays containing nan\u001b[0m\n",
      "\u001b[0;34m    values led to undefined behaviour. In numpy versions >= 1.4.0 nan\u001b[0m\n",
      "\u001b[0;34m    values are sorted to the end. The extended sort order is:\u001b[0m\n",
      "\u001b[0;34m\u001b[0m\n",
      "\u001b[0;34m      * Real: [R, nan]\u001b[0m\n",
      "\u001b[0;34m      * Complex: [R + Rj, R + nanj, nan + Rj, nan + nanj]\u001b[0m\n",
      "\u001b[0;34m\u001b[0m\n",
      "\u001b[0;34m    where R is a non-nan real value. Complex values with the same nan\u001b[0m\n",
      "\u001b[0;34m    placements are sorted according to the non-nan part if it exists.\u001b[0m\n",
      "\u001b[0;34m    Non-nan values are sorted as before.\u001b[0m\n",
      "\u001b[0;34m\u001b[0m\n",
      "\u001b[0;34m    .. versionadded:: 1.12.0\u001b[0m\n",
      "\u001b[0;34m\u001b[0m\n",
      "\u001b[0;34m    quicksort has been changed to `introsort <https://en.wikipedia.org/wiki/Introsort>`_.\u001b[0m\n",
      "\u001b[0;34m    When sorting does not make enough progress it switches to\u001b[0m\n",
      "\u001b[0;34m    `heapsort <https://en.wikipedia.org/wiki/Heapsort>`_.\u001b[0m\n",
      "\u001b[0;34m    This implementation makes quicksort O(n*log(n)) in the worst case.\u001b[0m\n",
      "\u001b[0;34m\u001b[0m\n",
      "\u001b[0;34m    'stable' automatically chooses the best stable sorting algorithm\u001b[0m\n",
      "\u001b[0;34m    for the data type being sorted.\u001b[0m\n",
      "\u001b[0;34m    It, along with 'mergesort' is currently mapped to\u001b[0m\n",
      "\u001b[0;34m    `timsort <https://en.wikipedia.org/wiki/Timsort>`_\u001b[0m\n",
      "\u001b[0;34m    or `radix sort <https://en.wikipedia.org/wiki/Radix_sort>`_\u001b[0m\n",
      "\u001b[0;34m    depending on the data type.\u001b[0m\n",
      "\u001b[0;34m    API forward compatibility currently limits the\u001b[0m\n",
      "\u001b[0;34m    ability to select the implementation and it is hardwired for the different\u001b[0m\n",
      "\u001b[0;34m    data types.\u001b[0m\n",
      "\u001b[0;34m\u001b[0m\n",
      "\u001b[0;34m    .. versionadded:: 1.17.0\u001b[0m\n",
      "\u001b[0;34m\u001b[0m\n",
      "\u001b[0;34m    Timsort is added for better performance on already or nearly\u001b[0m\n",
      "\u001b[0;34m    sorted data. On random data timsort is almost identical to\u001b[0m\n",
      "\u001b[0;34m    mergesort. It is now used for stable sort while quicksort is still the\u001b[0m\n",
      "\u001b[0;34m    default sort if none is chosen. For timsort details, refer to\u001b[0m\n",
      "\u001b[0;34m    `CPython listsort.txt <https://github.com/python/cpython/blob/3.7/Objects/listsort.txt>`_.\u001b[0m\n",
      "\u001b[0;34m    'mergesort' and 'stable' are mapped to radix sort for integer data types. Radix sort is an\u001b[0m\n",
      "\u001b[0;34m    O(n) sort instead of O(n log n).\u001b[0m\n",
      "\u001b[0;34m\u001b[0m\n",
      "\u001b[0;34m    .. versionchanged:: 1.18.0\u001b[0m\n",
      "\u001b[0;34m\u001b[0m\n",
      "\u001b[0;34m    NaT now sorts to the end of arrays for consistency with NaN.\u001b[0m\n",
      "\u001b[0;34m\u001b[0m\n",
      "\u001b[0;34m    Examples\u001b[0m\n",
      "\u001b[0;34m    --------\u001b[0m\n",
      "\u001b[0;34m    >>> a = np.array([[1,4],[3,1]])\u001b[0m\n",
      "\u001b[0;34m    >>> np.sort(a)                # sort along the last axis\u001b[0m\n",
      "\u001b[0;34m    array([[1, 4],\u001b[0m\n",
      "\u001b[0;34m           [1, 3]])\u001b[0m\n",
      "\u001b[0;34m    >>> np.sort(a, axis=None)     # sort the flattened array\u001b[0m\n",
      "\u001b[0;34m    array([1, 1, 3, 4])\u001b[0m\n",
      "\u001b[0;34m    >>> np.sort(a, axis=0)        # sort along the first axis\u001b[0m\n",
      "\u001b[0;34m    array([[1, 1],\u001b[0m\n",
      "\u001b[0;34m           [3, 4]])\u001b[0m\n",
      "\u001b[0;34m\u001b[0m\n",
      "\u001b[0;34m    Use the `order` keyword to specify a field to use when sorting a\u001b[0m\n",
      "\u001b[0;34m    structured array:\u001b[0m\n",
      "\u001b[0;34m\u001b[0m\n",
      "\u001b[0;34m    >>> dtype = [('name', 'S10'), ('height', float), ('age', int)]\u001b[0m\n",
      "\u001b[0;34m    >>> values = [('Arthur', 1.8, 41), ('Lancelot', 1.9, 38),\u001b[0m\n",
      "\u001b[0;34m    ...           ('Galahad', 1.7, 38)]\u001b[0m\n",
      "\u001b[0;34m    >>> a = np.array(values, dtype=dtype)       # create a structured array\u001b[0m\n",
      "\u001b[0;34m    >>> np.sort(a, order='height')                        # doctest: +SKIP\u001b[0m\n",
      "\u001b[0;34m    array([('Galahad', 1.7, 38), ('Arthur', 1.8, 41),\u001b[0m\n",
      "\u001b[0;34m           ('Lancelot', 1.8999999999999999, 38)],\u001b[0m\n",
      "\u001b[0;34m          dtype=[('name', '|S10'), ('height', '<f8'), ('age', '<i4')])\u001b[0m\n",
      "\u001b[0;34m\u001b[0m\n",
      "\u001b[0;34m    Sort by age, then height if ages are equal:\u001b[0m\n",
      "\u001b[0;34m\u001b[0m\n",
      "\u001b[0;34m    >>> np.sort(a, order=['age', 'height'])               # doctest: +SKIP\u001b[0m\n",
      "\u001b[0;34m    array([('Galahad', 1.7, 38), ('Lancelot', 1.8999999999999999, 38),\u001b[0m\n",
      "\u001b[0;34m           ('Arthur', 1.8, 41)],\u001b[0m\n",
      "\u001b[0;34m          dtype=[('name', '|S10'), ('height', '<f8'), ('age', '<i4')])\u001b[0m\n",
      "\u001b[0;34m\u001b[0m\n",
      "\u001b[0;34m    \"\"\"\u001b[0m\u001b[0;34m\u001b[0m\n",
      "\u001b[0;34m\u001b[0m    \u001b[0;32mif\u001b[0m \u001b[0maxis\u001b[0m \u001b[0;32mis\u001b[0m \u001b[0;32mNone\u001b[0m\u001b[0;34m:\u001b[0m\u001b[0;34m\u001b[0m\n",
      "\u001b[0;34m\u001b[0m        \u001b[0;31m# flatten returns (1, N) for np.matrix, so always use the last axis\u001b[0m\u001b[0;34m\u001b[0m\n",
      "\u001b[0;34m\u001b[0m        \u001b[0ma\u001b[0m \u001b[0;34m=\u001b[0m \u001b[0masanyarray\u001b[0m\u001b[0;34m(\u001b[0m\u001b[0ma\u001b[0m\u001b[0;34m)\u001b[0m\u001b[0;34m.\u001b[0m\u001b[0mflatten\u001b[0m\u001b[0;34m(\u001b[0m\u001b[0;34m)\u001b[0m\u001b[0;34m\u001b[0m\n",
      "\u001b[0;34m\u001b[0m        \u001b[0maxis\u001b[0m \u001b[0;34m=\u001b[0m \u001b[0;34m-\u001b[0m\u001b[0;36m1\u001b[0m\u001b[0;34m\u001b[0m\n",
      "\u001b[0;34m\u001b[0m    \u001b[0;32melse\u001b[0m\u001b[0;34m:\u001b[0m\u001b[0;34m\u001b[0m\n",
      "\u001b[0;34m\u001b[0m        \u001b[0ma\u001b[0m \u001b[0;34m=\u001b[0m \u001b[0masanyarray\u001b[0m\u001b[0;34m(\u001b[0m\u001b[0ma\u001b[0m\u001b[0;34m)\u001b[0m\u001b[0;34m.\u001b[0m\u001b[0mcopy\u001b[0m\u001b[0;34m(\u001b[0m\u001b[0morder\u001b[0m\u001b[0;34m=\u001b[0m\u001b[0;34m\"K\"\u001b[0m\u001b[0;34m)\u001b[0m\u001b[0;34m\u001b[0m\n",
      "\u001b[0;34m\u001b[0m    \u001b[0ma\u001b[0m\u001b[0;34m.\u001b[0m\u001b[0msort\u001b[0m\u001b[0;34m(\u001b[0m\u001b[0maxis\u001b[0m\u001b[0;34m=\u001b[0m\u001b[0maxis\u001b[0m\u001b[0;34m,\u001b[0m \u001b[0mkind\u001b[0m\u001b[0;34m=\u001b[0m\u001b[0mkind\u001b[0m\u001b[0;34m,\u001b[0m \u001b[0morder\u001b[0m\u001b[0;34m=\u001b[0m\u001b[0morder\u001b[0m\u001b[0;34m)\u001b[0m\u001b[0;34m\u001b[0m\n",
      "\u001b[0;34m\u001b[0m    \u001b[0;32mreturn\u001b[0m \u001b[0ma\u001b[0m\u001b[0;34m\u001b[0m\u001b[0;34m\u001b[0m\u001b[0m\n",
      "\u001b[0;31mClass docstring:\u001b[0m\n",
      "Class to wrap functions with checks for __array_function__ overrides.\n",
      "\n",
      "All arguments are required, and can only be passed by position.\n",
      "\n",
      "Parameters\n",
      "----------\n",
      "dispatcher : function or None\n",
      "    The dispatcher function that returns a single sequence-like object\n",
      "    of all arguments relevant.  It must have the same signature (except\n",
      "    the default values) as the actual implementation.\n",
      "    If ``None``, this is a ``like=`` dispatcher and the\n",
      "    ``_ArrayFunctionDispatcher`` must be called with ``like`` as the\n",
      "    first (additional and positional) argument.\n",
      "implementation : function\n",
      "    Function that implements the operation on NumPy arrays without\n",
      "    overrides.  Arguments passed calling the ``_ArrayFunctionDispatcher``\n",
      "    will be forwarded to this (and the ``dispatcher``) as if using\n",
      "    ``*args, **kwargs``.\n",
      "\n",
      "Attributes\n",
      "----------\n",
      "_implementation : function\n",
      "    The original implementation passed in."
     ]
    }
   ],
   "source": [
    "# 导入numpy和matplotlib两个包\n",
    "%pylab\n",
    "# 查看其中sort函数的帮助\n",
    "sort??"
   ]
  },
  {
   "cell_type": "markdown",
   "metadata": {},
   "source": [
    "### 使用上个结果\n",
    "\n",
    "**`\"_\"`** 使用上个cell的输出结果，类似MATLAB的 ans "
   ]
  },
  {
   "cell_type": "code",
   "execution_count": 22,
   "metadata": {
    "collapsed": false
   },
   "outputs": [
    {
     "data": {
      "text/plain": [
       "12"
      ]
     },
     "execution_count": 22,
     "metadata": {},
     "output_type": "execute_result"
    }
   ],
   "source": [
    "a = 12\n",
    "a"
   ]
  },
  {
   "cell_type": "code",
   "execution_count": 23,
   "metadata": {
    "collapsed": false
   },
   "outputs": [
    {
     "data": {
      "text/plain": [
       "25"
      ]
     },
     "execution_count": 23,
     "metadata": {},
     "output_type": "execute_result"
    }
   ],
   "source": [
    "_ + 13"
   ]
  },
  {
   "cell_type": "markdown",
   "metadata": {},
   "source": [
    "### 错误提示\n",
    "\n",
    "当输入出现错误时，**ipython**会指出出错的位置和原因："
   ]
  },
  {
   "cell_type": "code",
   "execution_count": 25,
   "metadata": {
    "collapsed": false
   },
   "outputs": [
    {
     "ename": "TypeError",
     "evalue": "unsupported operand type(s) for +: 'int' and 'str'",
     "output_type": "error",
     "traceback": [
      "\u001b[1;31m---------------------------------------------------------------------------\u001b[0m",
      "\u001b[1;31mTypeError\u001b[0m                                 Traceback (most recent call last)",
      "\u001b[1;32m<ipython-input-25-d37bedb9732a>\u001b[0m in \u001b[0;36m<module>\u001b[1;34m()\u001b[0m\n\u001b[1;32m----> 1\u001b[1;33m \u001b[1;36m1\u001b[0m \u001b[1;33m+\u001b[0m \u001b[1;34m\"hello\"\u001b[0m\u001b[1;33m\u001b[0m\u001b[0m\n\u001b[0m",
      "\u001b[1;31mTypeError\u001b[0m: unsupported operand type(s) for +: 'int' and 'str'"
     ]
    }
   ],
   "source": [
    "1 + \"hello\""
   ]
  }
 ],
 "metadata": {
  "kernelspec": {
   "display_name": "ml",
   "language": "python",
   "name": "python3"
  },
  "language_info": {
   "codemirror_mode": {
    "name": "ipython",
    "version": 3
   },
   "file_extension": ".py",
   "mimetype": "text/x-python",
   "name": "python",
   "nbconvert_exporter": "python",
   "pygments_lexer": "ipython3",
   "version": "3.12.0"
  }
 },
 "nbformat": 4,
 "nbformat_minor": 0
}
