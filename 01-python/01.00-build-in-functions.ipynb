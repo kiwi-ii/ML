{
 "cells": [
  {
   "cell_type": "markdown",
   "metadata": {},
   "source": [
    "# Build-in Functions \n",
    "\n",
    "> Python 3.12 共71个内置函数 \n",
    "\n",
    "进度 x/69 "
   ]
  },
  {
   "cell_type": "markdown",
   "metadata": {},
   "source": [
    "## 1. 数据类型相关"
   ]
  },
  {
   "cell_type": "markdown",
   "metadata": {},
   "source": [
    "### `type()` \n",
    "\n",
    "根据给定参数个数不同，有两种用法，1参数则返回对象的类型，3个参数返回新的类型对象。\n",
    "\n",
    "| 语法 | 返回值 | 参数 |\n",
    "|---|---|---|\n",
    "| `type(object)` | 对象类型 | 变量等对象 | \n",
    "| `type(name, bases, dict)` | 新的类型对象 | (类的名称,基类的元组,类内定义的命名空间变量)|\n",
    "\n",
    "与内置函数`isinstance()`区别：\n",
    "\n",
    "`type()` 不会认为子类是一种父类类型，不考虑继承关系。\n",
    "\n",
    "`isinstance()` 会认为子类是一种父类类型，考虑继承关系。\n",
    "\n",
    "ℹ️如果要判断两个类型是否相同推荐使用 `isinstance()`。\n"
   ]
  },
  {
   "cell_type": "code",
   "execution_count": 2,
   "metadata": {},
   "outputs": [
    {
     "name": "stdout",
     "output_type": "stream",
     "text": [
      "<class 'list'>\n",
      "False\n"
     ]
    },
    {
     "data": {
      "text/plain": [
       "__main__.X"
      ]
     },
     "execution_count": 2,
     "metadata": {},
     "output_type": "execute_result"
    }
   ],
   "source": [
    "# 一个参数实例 \n",
    "x = [1]\n",
    "print(type(x))        \n",
    "print(type(x) == int)    # 判断类型是否相等\n",
    " \n",
    "# 三个参数\n",
    "class X(object):\n",
    "    a = 1\n",
    "\n",
    "X = type('X', (object,), dict(a=1))  # 产生一个新的类型 X\n",
    "X"
   ]
  },
  {
   "cell_type": "code",
   "execution_count": 5,
   "metadata": {},
   "outputs": [
    {
     "name": "stdout",
     "output_type": "stream",
     "text": [
      "isinstance(A(), A) \tTrue\n",
      "type(A()) == A \t\tTrue\n",
      "isinstance(B(), A) \tTrue\n",
      "type(B()) == A \t\tFalse\n"
     ]
    }
   ],
   "source": [
    "class A:\n",
    "    pass\n",
    " \n",
    "class B(A):\n",
    "    pass\n",
    " \n",
    "print(f'isinstance(A(), A) \\t{isinstance(A(), A)}')    # returns True\n",
    "print(f'type(A()) == A \\t\\t{type(A()) == A}')       # returns True\n",
    "print(f'isinstance(B(), A) \\t{isinstance(B(), A)}')    # returns True\n",
    "print(f'type(B()) == A \\t\\t{type(B()) == A}')       # returns False"
   ]
  },
  {
   "cell_type": "markdown",
   "metadata": {},
   "source": [
    "## 2. 数学运算相关\n",
    "\n",
    "|函数|参数|返回|\n",
    "|---|---|---|\n",
    "|`abs(x)`|整数/浮点数/复数|绝对值/复数的大小|\n",
    "|`divmod(a, b)`|整数/浮点数|商，余数|\n",
    "|`min(x, y, z, ....)`|参数/序列|最小值|\n",
    "|`max(x, y, z, ....)`|参数/序列|最大值|\n",
    "|`power(x, y[, z])`|可同时对z取模|x的y次方|\n",
    "|`round(x [, n])` |浮点数，小数点位数|四舍五入值|\n",
    "|`sum(iterable[, start])`|可迭代对象，额外相加值|求和结果|"
   ]
  },
  {
   "cell_type": "markdown",
   "metadata": {},
   "source": [
    "### `abs()` \n",
    "\n",
    "返回数字的绝对值。\n",
    "\n",
    "|语法 | 参数 | 返回 |\n",
    "|---|---|---|\n",
    "|`abs(x)` | 整数/浮点数/复数 | 绝对值，若是复数则返回大小 |\n",
    "\n"
   ]
  },
  {
   "cell_type": "code",
   "execution_count": 2,
   "metadata": {},
   "outputs": [
    {
     "name": "stdout",
     "output_type": "stream",
     "text": [
      "abs(-4) :\t 4\n",
      "abs(3+4j) :\t 5.0\n"
     ]
    }
   ],
   "source": [
    "print (\"abs(-4) :\\t\", abs(-4))\n",
    "print (\"abs(3+4j) :\\t\", abs(3+4j))"
   ]
  },
  {
   "cell_type": "markdown",
   "metadata": {},
   "source": [
    "### `divmod()`\n",
    "\n",
    "接收两个数字类型（非复数）参数，返回一个包含商和余数的元组\n",
    "\n",
    "| 输入 | 返回 | |\n",
    "|---|---|---|\n",
    "|`a,b` 都是整数 | `(a // b, a % b)`| 商和余数都为整数 |\n",
    "|`a,b` 内有浮点数| `(q, a % b)` | 商和余数都为浮点数 |\n",
    "\n",
    "ℹ️`q` 通常是 `math.floor(a / b)`，但也有可能比该值还小 1 \n",
    "\n",
    "⚠️如果 `a % b` 的求余结果不为 0 ，则**余数**的正负符号跟参数 `b` 一致，负数会导致商大1，先取绝对值再算会符合数学直观"
   ]
  },
  {
   "cell_type": "code",
   "execution_count": 14,
   "metadata": {},
   "outputs": [
    {
     "data": {
      "text/plain": [
       "(3, 1)"
      ]
     },
     "execution_count": 14,
     "metadata": {},
     "output_type": "execute_result"
    }
   ],
   "source": [
    "divmod(7, 2)"
   ]
  },
  {
   "cell_type": "code",
   "execution_count": 15,
   "metadata": {},
   "outputs": [
    {
     "data": {
      "text/plain": [
       "(-4, -1)"
      ]
     },
     "execution_count": 15,
     "metadata": {},
     "output_type": "execute_result"
    }
   ],
   "source": [
    "divmod(7, -2)"
   ]
  },
  {
   "cell_type": "code",
   "execution_count": 18,
   "metadata": {},
   "outputs": [
    {
     "data": {
      "text/plain": [
       "(2.0, 0.3999999999999999)"
      ]
     },
     "execution_count": 18,
     "metadata": {},
     "output_type": "execute_result"
    }
   ],
   "source": [
    "divmod(3, 1.3)"
   ]
  },
  {
   "cell_type": "markdown",
   "metadata": {},
   "source": [
    "### `min()` `max()`\n",
    "\n",
    "返回给定参数的最小值、最大值，参数可以为序列\n",
    "\n",
    "⚠️ 给定参数类型要相同，要么全部为单值，要么全部为同类型序列，都是list，或者都是tuple\n",
    "\n",
    "ℹ️ bool是特殊整型，可以和单值比较，`True=1`, `False=0`\n",
    "\n",
    "ℹ️ 给定的是序列时，先比较每个序列的第一个元素，如果不能比出大小，再比较第二元素，以此类推\n",
    "\n",
    "ℹ️ 如果相同，返回靠前的 值/序列"
   ]
  },
  {
   "cell_type": "code",
   "execution_count": 10,
   "metadata": {},
   "outputs": [
    {
     "data": {
      "text/plain": [
       "(True, False, 0)"
      ]
     },
     "execution_count": 10,
     "metadata": {},
     "output_type": "execute_result"
    }
   ],
   "source": [
    "max((1,-1,0), (True,False,0))"
   ]
  },
  {
   "cell_type": "code",
   "execution_count": 14,
   "metadata": {},
   "outputs": [
    {
     "data": {
      "text/plain": [
       "(1, 0, 0)"
      ]
     },
     "execution_count": 14,
     "metadata": {},
     "output_type": "execute_result"
    }
   ],
   "source": [
    "max((1,0,0), (True,False,0))"
   ]
  },
  {
   "cell_type": "code",
   "execution_count": 16,
   "metadata": {},
   "outputs": [
    {
     "data": {
      "text/plain": [
       "(True, False, 0)"
      ]
     },
     "execution_count": 16,
     "metadata": {},
     "output_type": "execute_result"
    }
   ],
   "source": [
    "max((True,False,0), (1,0,0))"
   ]
  },
  {
   "cell_type": "markdown",
   "metadata": {},
   "source": [
    "### `power()`\n",
    "\n",
    "`pow(x, y[, z])`计算x的y次方，如果z在存在，则再对结果进行取模，其结果等效于pow(x,y) %z\n",
    "\n",
    "⚠️ `pow()` 通过内置的方法直接调用，内置方法会把参数作为整型，而 `math.pow()` 块则会把参数转换为 float。\n"
   ]
  },
  {
   "cell_type": "markdown",
   "metadata": {},
   "source": [
    "### `round()`\n",
    "\n",
    "`round(x [, n])`返回保留 `n` 位小数浮点数 `x` 的四舍五入值，准确的说保留值将保留到离上一位更近的一端（四舍六入）。\n",
    "\n",
    "⚠️ 精度要求高时，不建议使用该函数。\n"
   ]
  },
  {
   "cell_type": "code",
   "execution_count": 17,
   "metadata": {},
   "outputs": [
    {
     "data": {
      "text/plain": [
       "2.5"
      ]
     },
     "execution_count": 17,
     "metadata": {},
     "output_type": "execute_result"
    }
   ],
   "source": [
    "round(2.55, 1)"
   ]
  },
  {
   "cell_type": "code",
   "execution_count": 18,
   "metadata": {},
   "outputs": [
    {
     "data": {
      "text/plain": [
       "2.6"
      ]
     },
     "execution_count": 18,
     "metadata": {},
     "output_type": "execute_result"
    }
   ],
   "source": [
    "round(2.551, 1)"
   ]
  },
  {
   "cell_type": "markdown",
   "metadata": {},
   "source": [
    "### `sum()`\n",
    "\n",
    "`sum(iterable[, start])` 对序列进行求和计算，start为指定相加的参数，如果没有设置这个值，默认为0。\n",
    "\n",
    "⚠️ 嵌套列表的求和会报错"
   ]
  },
  {
   "cell_type": "code",
   "execution_count": 30,
   "metadata": {},
   "outputs": [
    {
     "data": {
      "text/plain": [
       "6"
      ]
     },
     "execution_count": 30,
     "metadata": {},
     "output_type": "execute_result"
    }
   ],
   "source": [
    "a = [1, 2, 3]\n",
    "sum(a)"
   ]
  },
  {
   "cell_type": "code",
   "execution_count": 31,
   "metadata": {},
   "outputs": [
    {
     "ename": "TypeError",
     "evalue": "unsupported operand type(s) for +: 'int' and 'list'",
     "output_type": "error",
     "traceback": [
      "\u001b[0;31m---------------------------------------------------------------------------\u001b[0m",
      "\u001b[0;31mTypeError\u001b[0m                                 Traceback (most recent call last)",
      "\u001b[1;32m/home/kewei/Projects/ML/01-python/01.00-build-in-functions.ipynb Cell 23\u001b[0m line \u001b[0;36m1\n\u001b[0;32m----> <a href='vscode-notebook-cell://wsl%2Bubuntu-22.04/home/kewei/Projects/ML/01-python/01.00-build-in-functions.ipynb#X43sdnNjb2RlLXJlbW90ZQ%3D%3D?line=0'>1</a>\u001b[0m \u001b[39msum\u001b[39;49m([a, a])\n",
      "\u001b[0;31mTypeError\u001b[0m: unsupported operand type(s) for +: 'int' and 'list'"
     ]
    }
   ],
   "source": [
    "sum([a, a])"
   ]
  },
  {
   "cell_type": "markdown",
   "metadata": {},
   "source": [
    "## 3. 迭代相关"
   ]
  },
  {
   "cell_type": "markdown",
   "metadata": {},
   "source": [
    "## 4. 对象相关"
   ]
  }
 ],
 "metadata": {
  "kernelspec": {
   "display_name": "ml",
   "language": "python",
   "name": "python3"
  },
  "language_info": {
   "codemirror_mode": {
    "name": "ipython",
    "version": 3
   },
   "file_extension": ".py",
   "mimetype": "text/x-python",
   "name": "python",
   "nbconvert_exporter": "python",
   "pygments_lexer": "ipython3",
   "version": "3.12.0"
  }
 },
 "nbformat": 4,
 "nbformat_minor": 2
}
