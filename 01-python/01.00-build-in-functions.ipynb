{
 "cells": [
  {
   "cell_type": "markdown",
   "metadata": {},
   "source": [
    "# Build-in Functions \n",
    "\n",
    "> Python 3.12 共71个内置函数 \n",
    "\n",
    "进度 x/69 "
   ]
  },
  {
   "cell_type": "markdown",
   "metadata": {},
   "source": [
    "## 1. 数学运算类 \n",
    "\n",
    "总结表"
   ]
  },
  {
   "cell_type": "markdown",
   "metadata": {},
   "source": [
    "### `divmod()`\n",
    "\n",
    "接收两个数字类型（非复数）参数，返回一个包含商和余数的元组\n",
    "\n",
    "| 输入 | 返回 | |\n",
    "|---|---|---|\n",
    "|`a,b` 都是整数 | `(a // b, a % b)`| 商和余数都为整数 |\n",
    "|`a,b` 内有浮点数| `(q, a % b)` | 商和余数都为浮点数 |\n",
    "\n",
    "ℹ️`q` 通常是 `math.floor(a / b)`，但也有可能比该值还小 1 \n",
    "\n",
    "⚠️如果 `a % b` 的求余结果不为 0 ，则**余数**的正负符号跟参数 `b` 一致，负数会导致商大1，先取绝对值再算会符合数学直观"
   ]
  },
  {
   "cell_type": "code",
   "execution_count": 14,
   "metadata": {},
   "outputs": [
    {
     "data": {
      "text/plain": [
       "(3, 1)"
      ]
     },
     "execution_count": 14,
     "metadata": {},
     "output_type": "execute_result"
    }
   ],
   "source": [
    "divmod(7, 2)"
   ]
  },
  {
   "cell_type": "code",
   "execution_count": 15,
   "metadata": {},
   "outputs": [
    {
     "data": {
      "text/plain": [
       "(-4, -1)"
      ]
     },
     "execution_count": 15,
     "metadata": {},
     "output_type": "execute_result"
    }
   ],
   "source": [
    "divmod(7, -2)"
   ]
  },
  {
   "cell_type": "code",
   "execution_count": 18,
   "metadata": {},
   "outputs": [
    {
     "data": {
      "text/plain": [
       "(2.0, 0.3999999999999999)"
      ]
     },
     "execution_count": 18,
     "metadata": {},
     "output_type": "execute_result"
    }
   ],
   "source": [
    "divmod(3, 1.3)"
   ]
  },
  {
   "cell_type": "markdown",
   "metadata": {},
   "source": [
    "### `type()` \n",
    "\n",
    "根据给定参数个数不同，有两种用法，1参数则返回对象的类型，3个参数返回新的类型对象。\n",
    "\n",
    "| 语法 | 返回值 | 参数 |\n",
    "|---|---|---|\n",
    "| `type(object)` | 对象类型 | 变量等对象 | \n",
    "| `type(name, bases, dict)` | 新的类型对象 | (类的名称,基类的元组,类内定义的命名空间变量)|\n",
    "\n",
    "与内置函数`isinstance()`区别：\n",
    "\n",
    "`type()` 不会认为子类是一种父类类型，不考虑继承关系。\n",
    "\n",
    "`isinstance()` 会认为子类是一种父类类型，考虑继承关系。\n",
    "\n",
    "ℹ️如果要判断两个类型是否相同推荐使用 `isinstance()`。\n"
   ]
  },
  {
   "cell_type": "code",
   "execution_count": 2,
   "metadata": {},
   "outputs": [
    {
     "name": "stdout",
     "output_type": "stream",
     "text": [
      "<class 'list'>\n",
      "False\n"
     ]
    },
    {
     "data": {
      "text/plain": [
       "__main__.X"
      ]
     },
     "execution_count": 2,
     "metadata": {},
     "output_type": "execute_result"
    }
   ],
   "source": [
    "# 一个参数实例 \n",
    "x = [1]\n",
    "print(type(x))        \n",
    "print(type(x) == int)    # 判断类型是否相等\n",
    " \n",
    "# 三个参数\n",
    "class X(object):\n",
    "    a = 1\n",
    "\n",
    "X = type('X', (object,), dict(a=1))  # 产生一个新的类型 X\n",
    "X"
   ]
  },
  {
   "cell_type": "code",
   "execution_count": 5,
   "metadata": {},
   "outputs": [
    {
     "name": "stdout",
     "output_type": "stream",
     "text": [
      "isinstance(A(), A) \tTrue\n",
      "type(A()) == A \t\tTrue\n",
      "isinstance(B(), A) \tTrue\n",
      "type(B()) == A \t\tFalse\n"
     ]
    }
   ],
   "source": [
    "class A:\n",
    "    pass\n",
    " \n",
    "class B(A):\n",
    "    pass\n",
    " \n",
    "print(f'isinstance(A(), A) \\t{isinstance(A(), A)}')    # returns True\n",
    "print(f'type(A()) == A \\t\\t{type(A()) == A}')       # returns True\n",
    "print(f'isinstance(B(), A) \\t{isinstance(B(), A)}')    # returns True\n",
    "print(f'type(B()) == A \\t\\t{type(B()) == A}')       # returns False"
   ]
  },
  {
   "cell_type": "markdown",
   "metadata": {},
   "source": []
  }
 ],
 "metadata": {
  "kernelspec": {
   "display_name": "ml",
   "language": "python",
   "name": "python3"
  },
  "language_info": {
   "codemirror_mode": {
    "name": "ipython",
    "version": 3
   },
   "file_extension": ".py",
   "mimetype": "text/x-python",
   "name": "python",
   "nbconvert_exporter": "python",
   "pygments_lexer": "ipython3",
   "version": "3.12.0"
  }
 },
 "nbformat": 4,
 "nbformat_minor": 2
}
