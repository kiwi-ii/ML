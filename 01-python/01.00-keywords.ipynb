{
 "cells": [
  {
   "cell_type": "markdown",
   "metadata": {},
   "source": [
    "##  逻辑运算符\n",
    "\n",
    "python使用关键字，而非特殊符号，进行逻辑运算\n",
    "\n",
    "| 关键字 | 含义 | 关键字 | 含义 | 关键字 | 含义 |\n",
    "| ------ | ---- |---|---|---|---|\n",
    "| `and`  | 与   | `or`   | 或   | `not`  | 非   |"
   ]
  }
 ],
 "metadata": {
  "language_info": {
   "name": "python"
  }
 },
 "nbformat": 4,
 "nbformat_minor": 2
}
