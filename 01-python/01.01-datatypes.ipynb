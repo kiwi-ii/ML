{
 "cells": [
  {
   "cell_type": "markdown",
   "metadata": {},
   "source": [
    "# 变量、类型、运算符"
   ]
  },
  {
   "cell_type": "markdown",
   "metadata": {},
   "source": [
    "## 1. 变量\n",
    "\n",
    "### 1.1 命名原则\n",
    "\n",
    "1. 变量名只能包含字母、数字和下划线。变量名可以字母或下划线打头，但不能以数字打头，例如，可将变量命名为message_1，但不能将其命名为1_message。\n",
    "2. 变量名不能包含空格，但可使用下划线来分隔其中的单词。例如，变量名greeting_message可行，但变量名greeting message会引发错误。\n",
    "3. 不要将Python关键字和函数名用作变量名，即不要使用Python保留用于特殊用途的单词，\n",
    "4. 变量名应既简短又具有描述性。例如，name比n好，student_name比s_n好，name_length比length_of_persons_name好。\n",
    "5. 慎用小写字母l和大写字母O，因为它们可能被人错看成数字1和0\n",
    "\n",
    "### 1.2 定义\n",
    "\n",
    "python内定义变量无需指定变量的数据类型\n",
    "\n",
    "可以一行定义多个变量`a, b = 3, 4`，当用于交换变量的值时，非常方便\n",
    "\n",
    "ℹ️ 其原理是`tuple`的封装与解封"
   ]
  },
  {
   "cell_type": "markdown",
   "metadata": {},
   "source": [
    "## 2. 数据类型\n",
    "\n",
    "||数据类型|简要说明|演示|\n",
    "|---|----|----|---|\n",
    "|字符串|`Str`|`'hello'`|单引号或双引号引住的内容|\n",
    "|列表|`List`|`[1, 1.2, 'hello']` |内部元素可以为不同类型|\n",
    "|元组|`Tuple`|`('ring', 1000)`|与列表类似，元素值不可更改|\n",
    "|字典|`Dict`|`{'dogs': 5, 'pigs': 3}`|无序键值对的集合|\n",
    "|集合|`Set`|`{1, 2, 3}`|无序不重复|\n",
    "\n",
    "ℹ️ **格式化字符串**和**格式化符**都非常重要，用于格式化输出内容\n",
    "\n",
    "|数字特殊表示||\n",
    "|---|---|\n",
    "|科学计数法|`1e-6`|\n",
    "|二进制|`0b1010`|\n",
    "|八进制|`0777`|\n",
    "|十六进制|`0xFF`|"
   ]
  },
  {
   "cell_type": "markdown",
   "metadata": {},
   "source": [
    "## 3. 类型转换\n",
    "\n",
    "|函数|\t描述|\n",
    "|---|---|\n",
    "|`int(x [,base])`|将x转换为一个整数|\n",
    "|`float(x)`|将x转换到一个浮点数|\n",
    "|`complex(real [,imag])`|创建一个复数|\n",
    "|`str(x)`|将对象 x 转换为字符串|\n",
    "|`repr(x)`|将对象 x 转换为表达式字符串|\n",
    "|`eval(str)`|用来计算在字符串中的有效Python表达式,并返回一个对象|\n",
    "|`tuple(s)`|将序列 s 转换为一个元组|\n",
    "|`list(s)`|将序列 s 转换为一个列表|\n",
    "|`set(s)`|转换为可变集合|\n",
    "|`dict(d)`|创建一个字典。d 必须是一个 (key, value)元组序列|\n",
    "|`frozenset(s)`|转换为不可变集合|\n",
    "|`chr(x)`|将一个整数转换为一个字符|\n",
    "|`ord(x)`|将一个字符转换为它的整数值|\n",
    "|`hex(x)`|将一个整数转换为一个十六进制字符串|\n",
    "|`oct(x)`|将一个整数转换为一个八进制字符串|"
   ]
  },
  {
   "cell_type": "markdown",
   "metadata": {},
   "source": [
    "\n",
    "## 4. 运算符\n",
    "\n",
    "### 4.1 数值运算符\n",
    "\n",
    "|作用|运算符|作用|运算符|\n",
    "|---|---|---|---|\n",
    "|加|`+`，简写：`+=`||\n",
    "|减|`-`，简写；`-=`|| \n",
    "|乘|`*`，简写：`*=`|相关|乘方：`**`|\n",
    "|除|`/`，简写：`/=`|相关|整除：`//`，取余：`%`|\n",
    "\n",
    "ℹ️ 同时得到商和余数的函数`divmod(a,b)`，返回的是一个结果为`(div, mod)`的`tuple` \n",
    "\n",
    "### 4.2 关系运算符\n",
    "\n",
    "| 运算符 | 含义  |运算符 | 含义  |\n",
    "| ---- | ------ |---|---|\n",
    "| `<` | Is less than  | `>`  | Is greater than |\n",
    "| `<=`| Is less than or equal to | `>=` | Is greater than or equal to |\n",
    "| `==`| Is equal to         | `!=` | Is not equal to   |\n",
    "\n",
    "### 4.3 逻辑运算符\n",
    "\n",
    "python使用关键字，而非特殊符号，进行逻辑运算\n",
    "\n",
    "| 关键字 | 含义 | 关键字 | 含义 | 关键字 | 含义 |\n",
    "| ------ | ---- |---|---|---|---|\n",
    "| `and`  | 与   | `or`   | 或   | `not`  | 非   |\n",
    "\n",
    "ℹ️ `and` 和 `or` 也称作短路运算符：它们的参数从左向右解析，一旦结果可以确定就停止\n",
    "\n",
    "### 4.4 简单的数学函数\n",
    "\n",
    "|函数|作用|\n",
    "|---|---|\n",
    "|`abs()`|绝对值|\n",
    "|`round()`|四舍五入|\n",
    "|`min()`|最小值|\n",
    "|`max()`|最大值|"
   ]
  }
 ],
 "metadata": {
  "kernelspec": {
   "display_name": "Python 3.8.8 ('base')",
   "language": "python",
   "name": "python3"
  },
  "language_info": {
   "codemirror_mode": {
    "name": "ipython",
    "version": 2
   },
   "file_extension": ".py",
   "mimetype": "text/x-python",
   "name": "python",
   "nbconvert_exporter": "python",
   "pygments_lexer": "ipython2",
   "version": "3.8.8"
  },
  "vscode": {
   "interpreter": {
    "hash": "ad2bdc8ecc057115af97d19610ffacc2b4e99fae6737bb82f5d7fb13d2f2c186"
   }
  }
 },
 "nbformat": 4,
 "nbformat_minor": 0
}
