{
 "cells": [
  {
   "cell_type": "markdown",
   "metadata": {},
   "source": [
    "# 变量、数值、运算"
   ]
  },
  {
   "cell_type": "markdown",
   "metadata": {},
   "source": [
    "## 1. 变量 \n",
    "### 1.1 命名原则\n",
    "\n",
    "1. 变量名只能包含字母、数字和下划线。变量名可以字母或下划线打头，但不能以数字打头，例如，可将变量命名为 `message_1`，但不能将其命名为`1_message`。\n",
    "2. 变量名不能包含空格，但可使用下划线来分隔其中的单词。例如，变量名`greeting_message`可行，但变量名greeting message会引发错误。\n",
    "3. 不要将Python**关键字**和**内置函数名**用作变量名，即不要使用Python保留用于特殊用途的单词，\n",
    "4. 变量名应既简短又具有描述性。例如，name比n好，student_name比s_n好，name_length比length_of_persons_name好。\n",
    "5. 慎用小写字母l和大写字母O，因为它们可能被人错看成数字1和0\n",
    "\n",
    "### 1.2 定义\n",
    "\n",
    "python内定义变量无需指定变量的数据类型\n",
    "\n",
    "可以一行定义多个变量`a, b = 3, 4`，当用于交换变量的值时，非常方便\n",
    "\n",
    "ℹ️ 其原理是`tuple`的封装与解封 "
   ]
  },
  {
   "cell_type": "code",
   "execution_count": 2,
   "metadata": {},
   "outputs": [
    {
     "data": {
      "text/plain": [
       "(1, 10)"
      ]
     },
     "execution_count": 2,
     "metadata": {},
     "output_type": "execute_result"
    }
   ],
   "source": [
    "# 一行定义多个变量\n",
    "a, b = 1, 10\n",
    "a, b"
   ]
  },
  {
   "cell_type": "code",
   "execution_count": 3,
   "metadata": {},
   "outputs": [
    {
     "data": {
      "text/plain": [
       "(10, 1)"
      ]
     },
     "execution_count": 3,
     "metadata": {},
     "output_type": "execute_result"
    }
   ],
   "source": [
    "# 交换a,b的值\n",
    "a, b = b, a \n",
    "a, b"
   ]
  },
  {
   "cell_type": "markdown",
   "metadata": {},
   "source": [
    "### 1.3 查看变量类型\n",
    "\n",
    "内置函数 `type()` "
   ]
  },
  {
   "cell_type": "code",
   "execution_count": 15,
   "metadata": {
    "collapsed": false
   },
   "outputs": [
    {
     "data": {
      "text/plain": [
       "int"
      ]
     },
     "execution_count": 15,
     "metadata": {},
     "output_type": "execute_result"
    }
   ],
   "source": [
    "type(a) "
   ]
  },
  {
   "cell_type": "markdown",
   "metadata": {},
   "source": [
    "## 2. 数值类型\n",
    "\n",
    "Python3有三种不同的数值类型：\n",
    "\n",
    "| | 类型 | 特点 |\n",
    "|---|---|---|\n",
    "|`int`|整型| Python3 整型不限制大小，布尔型`bool`是整型的子类型 | \n",
    "|`float`|浮点型| 由整数部分与小数部分组成|\n",
    "|`complex`|复数| 由浮点型的实数部分和虚数部分构成|\n",
    "\n",
    "⚠️ Python3没有长整型 \n",
    "\n",
    "|特殊表示||类型|\n",
    "|---|---|---|\n",
    "|二进制|`0b1010`|整型|\n",
    "|八进制|`0777`|整型|\n",
    "|十六进制|`0xFF`|整型|\n",
    "|科学计数法|`2.1e-6`|浮点型|\n",
    "|复数|`a + bj`,`complex(a,b)`| 复数型 |\n",
    "\n",
    "ℹ️ 特殊表示中的字母大小写均可\n"
   ]
  },
  {
   "cell_type": "markdown",
   "metadata": {},
   "source": [
    "### 2.1 整型 Integers \n",
    "\n",
    "#### 数值范围\n",
    "\n",
    "整型数字的最大最小值：\n",
    "\n",
    "在 32 位系统中，一个整型 4 个字节，最小值 `-2,147,483,648`，最大值 `2,147,483,647`，每个byte有8个bit，范围对应`2^(4*8)`个数据。\n",
    "\n",
    "在 64 位系统中，一个整型 8 个字节，最小值 `-9,223,372,036,854,775,808`，最大值 `9,223,372,036,854,775,807`，每个byte有8个bit，范围对应`2^(8*8)`个数据。"
   ]
  },
  {
   "cell_type": "code",
   "execution_count": 25,
   "metadata": {
    "collapsed": false
   },
   "outputs": [
    {
     "data": {
      "text/plain": [
       "9223372036854775807"
      ]
     },
     "execution_count": 25,
     "metadata": {},
     "output_type": "execute_result"
    }
   ],
   "source": [
    "import sys\n",
    "sys.maxsize"
   ]
  },
  {
   "cell_type": "markdown",
   "metadata": {},
   "source": [
    "#### 布尔型 Boolean Data Type\n",
    "\n",
    "布尔型可以看成特殊的二值变量，一种特殊的整型，其取值为`True`和`False`\n",
    "\n",
    "支持链式比较，即一行连续多次比较"
   ]
  },
  {
   "cell_type": "code",
   "execution_count": null,
   "metadata": {},
   "outputs": [
    {
     "data": {
      "text/plain": [
       "bool"
      ]
     },
     "metadata": {},
     "output_type": "display_data"
    }
   ],
   "source": [
    "q = True\n",
    "type(q)"
   ]
  },
  {
   "cell_type": "code",
   "execution_count": null,
   "metadata": {},
   "outputs": [
    {
     "name": "stdout",
     "output_type": "stream",
     "text": [
      "False\n"
     ]
    }
   ],
   "source": [
    "q = 1 > 2\n",
    "print q"
   ]
  },
  {
   "cell_type": "code",
   "execution_count": null,
   "metadata": {},
   "outputs": [
    {
     "data": {
      "text/plain": [
       "True"
      ]
     },
     "metadata": {},
     "output_type": "display_data"
    }
   ],
   "source": [
    "x = 2 \n",
    "1 < x <= 3"
   ]
  },
  {
   "cell_type": "markdown",
   "metadata": {},
   "source": [
    "\n",
    "#### 关系运算符\n",
    "\n",
    "| 运算符 | 含义  |运算符 | 含义  |\n",
    "| ---- | ------ |---|---|\n",
    "| `<` | Is less than  | `>`  | Is greater than |\n",
    "| `<=`| Is less than or equal to | `>=` | Is greater than or equal to |\n",
    "| `==`| Is equal to         | `!=` | Is not equal to   |\n",
    "\n",
    "#### 逻辑运算符\n",
    "\n",
    "python使用关键字，而非特殊符号，进行逻辑运算\n",
    "\n",
    "| 关键字 | 含义 | 关键字 | 含义 | 关键字 | 含义 |\n",
    "| ------ | ---- |---|---|---|---|\n",
    "| `and`  | 与   | `or`   | 或   | `not`  | 非   |\n",
    "\n",
    "ℹ️ `and` 和 `or` 也称作短路运算符：它们的参数从左向右解析，一旦结果可以确定就停止"
   ]
  },
  {
   "cell_type": "markdown",
   "metadata": {},
   "source": [
    "### 2.2 浮点数 Floating Point Numbers\n",
    "\n",
    "1. **Python**的浮点数标准与**C**，**Java**一致，都是[IEEE 754 floating point standard](http://en.wikipedia.org/wiki/IEEE_floating_point)。\n",
    "\n",
    "2. 注意 `3.4 - 3.2` 的结果并不是我们预期的`0.2`，这是因为浮点数本身储存方式引起的，浮点数本身会存在一点误差。\n",
    "\n",
    "3. 事实上，**Python** 中储存的值为'0.199999999999999733546474089962430298328399658203125'，因为这是最接近0.2的浮点数。\n",
    "\n",
    "4. `print()`控制显示精度时，会显示为`0.2`"
   ]
  },
  {
   "cell_type": "code",
   "execution_count": 14,
   "metadata": {
    "collapsed": false
   },
   "outputs": [
    {
     "data": {
      "text/plain": [
       "float"
      ]
     },
     "execution_count": 14,
     "metadata": {},
     "output_type": "execute_result"
    }
   ],
   "source": [
    "a = 1.4\n",
    "type(a)"
   ]
  },
  {
   "cell_type": "code",
   "execution_count": 36,
   "metadata": {
    "collapsed": false
   },
   "outputs": [
    {
     "data": {
      "text/plain": [
       "0.19999999999999973"
      ]
     },
     "execution_count": 36,
     "metadata": {},
     "output_type": "execute_result"
    }
   ],
   "source": [
    "3.4-3.2"
   ]
  },
  {
   "cell_type": "code",
   "execution_count": 37,
   "metadata": {
    "collapsed": false
   },
   "outputs": [
    {
     "data": {
      "text/plain": [
       "'0.199999999999999733546474089962430298328399658203125'"
      ]
     },
     "execution_count": 37,
     "metadata": {},
     "output_type": "execute_result"
    }
   ],
   "source": [
    "'{:.52}'.format(3.4 - 3.2)"
   ]
  },
  {
   "cell_type": "code",
   "execution_count": 39,
   "metadata": {
    "collapsed": false
   },
   "outputs": [
    {
     "name": "stdout",
     "output_type": "stream",
     "text": [
      "0.20\n"
     ]
    }
   ],
   "source": [
    "print(f'{3.4 - 3.2:.2f}')"
   ]
  },
  {
   "cell_type": "markdown",
   "metadata": {},
   "source": [
    "`sys`模块查看浮点数信息 \n",
    "\n",
    "|方法|作用|\n",
    "|---|---|\n",
    "|`sys.float_info`|查看浮点数基本信息|\n",
    "|`sys.float_info.max` | 浮点数能表示的最大值 |\n",
    "|`sys.float_info.min` | 浮点数能表示的最接近0的值 |\n",
    "|`sys.float_info.epsilon` | 浮点数的精度 |"
   ]
  },
  {
   "cell_type": "code",
   "execution_count": 40,
   "metadata": {
    "collapsed": false
   },
   "outputs": [
    {
     "data": {
      "text/plain": [
       "sys.float_info(max=1.7976931348623157e+308, max_exp=1024, max_10_exp=308, min=2.2250738585072014e-308, min_exp=-1021, min_10_exp=-307, dig=15, mant_dig=53, epsilon=2.220446049250313e-16, radix=2, rounds=1)"
      ]
     },
     "execution_count": 40,
     "metadata": {},
     "output_type": "execute_result"
    }
   ],
   "source": [
    "import sys\n",
    "sys.float_info"
   ]
  },
  {
   "cell_type": "code",
   "execution_count": 41,
   "metadata": {
    "collapsed": false
   },
   "outputs": [
    {
     "data": {
      "text/plain": [
       "1.7976931348623157e+308"
      ]
     },
     "execution_count": 41,
     "metadata": {},
     "output_type": "execute_result"
    }
   ],
   "source": [
    "sys.float_info.max"
   ]
  },
  {
   "cell_type": "code",
   "execution_count": 42,
   "metadata": {
    "collapsed": false
   },
   "outputs": [
    {
     "data": {
      "text/plain": [
       "2.2250738585072014e-308"
      ]
     },
     "execution_count": 42,
     "metadata": {},
     "output_type": "execute_result"
    }
   ],
   "source": [
    "sys.float_info.min"
   ]
  },
  {
   "cell_type": "code",
   "execution_count": 43,
   "metadata": {
    "collapsed": false
   },
   "outputs": [
    {
     "data": {
      "text/plain": [
       "2.220446049250313e-16"
      ]
     },
     "execution_count": 43,
     "metadata": {},
     "output_type": "execute_result"
    }
   ],
   "source": [
    "sys.float_info.epsilon"
   ]
  },
  {
   "cell_type": "markdown",
   "metadata": {},
   "source": [
    "### 2.3 复数 Complex Numbers\n",
    "\n",
    "**Python** 使用 `j` 来表示复数的虚部：\n",
    "\n",
    "| 方法 | 作用 |\n",
    "| --- | --- |\n",
    "| `a.real` | 实部 |\n",
    "| `a.imag` | 虚部 |\n",
    "| `a.conjugate()` | 共轭复数 |\n",
    "| `abs(a)` | 模/大小 |\n",
    "\n",
    "ℹ️ `abs()` 为内置函数 "
   ]
  },
  {
   "cell_type": "code",
   "execution_count": 8,
   "metadata": {
    "collapsed": false
   },
   "outputs": [
    {
     "data": {
      "text/plain": [
       "complex"
      ]
     },
     "execution_count": 8,
     "metadata": {},
     "output_type": "execute_result"
    }
   ],
   "source": [
    "a = 3 + 4j\n",
    "type(a)"
   ]
  },
  {
   "cell_type": "code",
   "execution_count": 9,
   "metadata": {
    "collapsed": false
   },
   "outputs": [
    {
     "data": {
      "text/plain": [
       "3.0"
      ]
     },
     "execution_count": 9,
     "metadata": {},
     "output_type": "execute_result"
    }
   ],
   "source": [
    "a.real"
   ]
  },
  {
   "cell_type": "code",
   "execution_count": 10,
   "metadata": {
    "collapsed": false
   },
   "outputs": [
    {
     "data": {
      "text/plain": [
       "4.0"
      ]
     },
     "execution_count": 10,
     "metadata": {},
     "output_type": "execute_result"
    }
   ],
   "source": [
    "a.imag"
   ]
  },
  {
   "cell_type": "code",
   "execution_count": 11,
   "metadata": {
    "collapsed": false
   },
   "outputs": [
    {
     "data": {
      "text/plain": [
       "(3-4j)"
      ]
     },
     "execution_count": 11,
     "metadata": {},
     "output_type": "execute_result"
    }
   ],
   "source": [
    "a.conjugate()"
   ]
  },
  {
   "cell_type": "code",
   "execution_count": 12,
   "metadata": {},
   "outputs": [
    {
     "data": {
      "text/plain": [
       "5.0"
      ]
     },
     "execution_count": 12,
     "metadata": {},
     "output_type": "execute_result"
    }
   ],
   "source": [
    "abs(a)"
   ]
  },
  {
   "cell_type": "markdown",
   "metadata": {},
   "source": [
    "## 3. 运算 \n",
    "\n",
    "### 3.1 数值运算符\n",
    "\n",
    "| |运算符|结果|原地计算|\n",
    "|---|---|---|---|\n",
    "|加|`+`|整数|`+=`|\n",
    "|减|`-`|整数|`-=`|\n",
    "|乘|`*`|整数|`*=`|\n",
    "|除|`/`|浮点数|`/=`|\n",
    "|整除|`//`|整数| |\n",
    "|取余|`%`|整数| |\n",
    "|乘方|`**`|整数| |\n",
    "\n",
    "ℹ️ 除法 运算时，即使能够整除，返回的也是浮点数，`2/1`返回的是`2.0` \n",
    "\n",
    "ℹ️ 整除 运算时，返回的是比结果小的最大整数值，在涉及负数时须注意。\n"
   ]
  },
  {
   "cell_type": "code",
   "execution_count": 34,
   "metadata": {
    "collapsed": false
   },
   "outputs": [
    {
     "name": "stdout",
     "output_type": "stream",
     "text": [
      "加\t3 + 4 = 7\n",
      "减\t3 - 4 = -1\n",
      "乘\t3 * 4 = 12\n",
      "除\t3 / 4 = 0.75\n",
      "除\t4 / 4 = 1.0\n",
      "整除\t3 // 4 = 0\n",
      "取余\t3 % 4 = 3\n",
      "乘方\t3 ** 4 = 81\n"
     ]
    }
   ],
   "source": [
    "print(f'加\\t3 + 4 = {3 + 4}')\n",
    "print(f'减\\t3 - 4 = {3 - 4}')\n",
    "print(f'乘\\t3 * 4 = {3 * 4}')\n",
    "print(f'除\\t3 / 4 = {3 / 4}')\n",
    "print(f'除\\t4 / 4 = {4 / 4}') \n",
    "print(f'整除\\t3 // 4 = {3 // 4}')\n",
    "print(f'取余\\t3 % 4 = {3 % 4}')\n",
    "print(f'乘方\\t3 ** 4 = {3 ** 4}')"
   ]
  },
  {
   "cell_type": "markdown",
   "metadata": {},
   "source": [
    "### 3.2 优先级\n",
    "\n",
    "在**Python**中运算优先级从高到低排列如下：\n",
    "\n",
    "|顺序|运算符||\n",
    "|---|---|---|\n",
    "|1|`( )`|括号|\n",
    "|2|`**` 幂指数运算|\n",
    "|3|`* / // %` |乘，除，整除，取余|\n",
    "|4|`+ -` |加减|"
   ]
  },
  {
   "cell_type": "markdown",
   "metadata": {},
   "source": [
    "### 3.3 数学相关的内置函数 \n",
    "\n",
    "|函数|参数|返回|\n",
    "|---|---|---|\n",
    "|`abs(x)`|整数/浮点数/复数|绝对值/复数的大小|\n",
    "|`divmod(a, b)`|整数/浮点数|商，余数|\n",
    "|`min(x, y, z, ....)`|参数/序列|最小值|\n",
    "|`max(x, y, z, ....)`|参数/序列|最大值|\n",
    "|`power(x, y[, z])`|可同时对z取模|x的y次方|\n",
    "|`round(x [, n])` |浮点数，小数点位数|四舍五入值|\n",
    "|`sum(iterable[, start])`|可迭代对象，额外相加值|求和结果|\n"
   ]
  }
 ],
 "metadata": {
  "kernelspec": {
   "display_name": "ml",
   "language": "python",
   "name": "python3"
  },
  "language_info": {
   "codemirror_mode": {
    "name": "ipython",
    "version": 3
   },
   "file_extension": ".py",
   "mimetype": "text/x-python",
   "name": "python",
   "nbconvert_exporter": "python",
   "pygments_lexer": "ipython3",
   "version": "3.12.0"
  }
 },
 "nbformat": 4,
 "nbformat_minor": 0
}
