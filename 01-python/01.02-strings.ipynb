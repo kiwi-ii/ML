{
 "cells": [
  {
   "cell_type": "markdown",
   "metadata": {},
   "source": [
    "# 字符串\n",
    "\n",
    "### 定义\n",
    "\n",
    "1. 单引号`''`或者双引号`\"\"`引起的都是字符串，如果字符串中有单引号，则必须用双引号引用\n",
    "\n",
    "2. 多行字符串可以用三个单引号`'''...'''` 或者 或者三个双引号 `\"\"\"...\"\"\"` \n",
    "\n",
    "3. 可以使用 `()` 或者 `\\` 连接多行字符串"
   ]
  },
  {
   "cell_type": "code",
   "execution_count": 9,
   "metadata": {},
   "outputs": [
    {
     "data": {
      "text/plain": [
       "\"hello, world. it's a nice day. my name is xxx\""
      ]
     },
     "execution_count": 9,
     "metadata": {},
     "output_type": "execute_result"
    },
    {
     "data": {
      "text/plain": [
       "\"hello, world. it's a nice day. my name is xxx\""
      ]
     },
     "execution_count": 9,
     "metadata": {},
     "output_type": "execute_result"
    }
   ],
   "source": [
    "a = (\"hello, world. \"\n",
    "    \"it's a nice day. \"\n",
    "    \"my name is xxx\")\n",
    "b = \"hello, world. \" \\\n",
    "    \"it's a nice day. \" \\\n",
    "    \"my name is xxx\"\n",
    "a\n",
    "b"
   ]
  },
  {
   "cell_type": "code",
   "execution_count": 6,
   "metadata": {},
   "outputs": [],
   "source": [
    "# Cell可以多行输出\n",
    "from IPython.core.interactiveshell import InteractiveShell\n",
    "InteractiveShell.ast_node_interactivity = \"all\""
   ]
  },
  {
   "cell_type": "markdown",
   "metadata": {},
   "source": [
    "## 2. 方法\n",
    "\n",
    "内容偏简略，可以根据 [官方文档](https://docs.python.org/zh-cn/3/library/stdtypes.html) 补充\n",
    "\n",
    "### 2.1 修改\n",
    "\n",
    "#### 大小写\n",
    "\n",
    "|方法名|作用||\n",
    "|---|---|---|\n",
    "|`.upper()` |全部转换为大写|\n",
    "| `.lower()` |全部转换为小写|\n",
    "|`.capitalize()`|第一个字符转换为大写|\n",
    "| `.title()` |每个单词首字母转换为大写| \n",
    "| `.swapcase()` |交换大小写|产生新字符串|\n",
    "|`.casefold()`|全部转换为小写|比`.lower()`更强，使用更多语言|"
   ]
  },
  {
   "cell_type": "markdown",
   "metadata": {},
   "source": [
    "#### 替换\n",
    "\n",
    "|方法名|作用||\n",
    "|---|---|---|\n",
    "|`.replace(old, new[, count])`|返回字符串的副本，其中出现的所有子字符串 old 都将被替换为 new。 如果给出了可选参数 count，则只替换前 count 次出现|"
   ]
  },
  {
   "cell_type": "markdown",
   "metadata": {},
   "source": [
    "#### 填充\n",
    "\n",
    "|方法|作用|\n",
    "|---|---|\n",
    "| `.center(w[, c])`| 使用字符`c`将`str`填充至`w`位，且原字符串居中，`c`默认为空格| \n",
    "| `.ljust(w[, c])`| 使用字符`c`将`str`填充至`w`位，且原字符串左对齐，`c`默认为空格| \n",
    "| `.rjust(w[, c])`| 使用字符`c`将`str`填充至`w`位，且原字符串右对齐，`c`默认为空格| \n",
    "|`.zfill(width)`||\n",
    "返回原字符串的副本，在左边填充 ASCII '0' 数码使其长度变为 width。 正负值前缀 ('+'/'-') 的处理方式是在正负符号 之后 填充而非在之前。 如果 width 小于等于 len(s) 则返回原字符串的副本。"
   ]
  },
  {
   "cell_type": "markdown",
   "metadata": {},
   "source": [
    "#### 拼接\n",
    "\n",
    "|方法|作用|\n",
    "|---|---|\n",
    "|`s.join(str_seq)`|使用连接符`s`连接字符串序列`str_seq`的元素|\n",
    "|`+`|使用+号进行拼接，将不同的字符串和空格等符号进行连接|\n",
    "|`*`|使用+号进行拼接，将不同的字符串和空格等符号进行连接|\n"
   ]
  },
  {
   "cell_type": "markdown",
   "metadata": {},
   "source": [
    "#### 拆分\n",
    "\n",
    "|方法|返回|作用|\n",
    "|---|---|---|\n",
    "|`.split(sep=None, maxsplit= -1)`| 列表|用`sep`拆分`str`,最多拆分`maxsplit`次|\n",
    "|`.rsplit(sep=None, maxsplit= -1)`| 列表| 同上，但从右侧开始 |\n",
    "|`.splitlines(keepends=False)`| 列表| 行边界处进行拆分 |\n",
    "|`.partition(sep)`| 元组 | 拆一次返回`(左侧子str,sep,左侧子str)` | \n",
    "|`.rpartition(sep)` | 元组 | 同上，但从右侧开始 |\n",
    "\n",
    "1. 对于`.split()`类方法：\n",
    "\n",
    "ℹ️ `maxsplit`可省略，默认为 `-1`，即按最多次拆分\n",
    "\n",
    "ℹ️ `sep`可省略，默认为`None`，即用空格拆分；给定时可以为多个字符\n",
    "\n",
    "ℹ️ 如果给定 `sep`，则连续的分隔符被视为分隔空字符串, 如果省略或者给定为`None`，则连续的空格会被视为单个分隔符，即不会拆出空字符串\n",
    "\n",
    "⚠️ 如果指定`.split()`分隔符为`\\n`，则末尾会有空字符串\n",
    "\n",
    "⚠️ `.splitlines()`结果默认不包含行边界符，除非给定`keepends=True`\n",
    "\n",
    "\n",
    "2. 对于`.partition()`类方法：\n",
    "\n",
    "⚠️ 如果`str`内不包含`sep`，那么返回`(str, '', '')` \n"
   ]
  },
  {
   "cell_type": "code",
   "execution_count": 8,
   "metadata": {},
   "outputs": [
    {
     "data": {
      "text/plain": [
       "['abc']"
      ]
     },
     "execution_count": 8,
     "metadata": {},
     "output_type": "execute_result"
    },
    {
     "data": {
      "text/plain": [
       "['abc', '']"
      ]
     },
     "execution_count": 8,
     "metadata": {},
     "output_type": "execute_result"
    }
   ],
   "source": [
    "'abc\\n'.split()\n",
    "'abc\\n'.split('\\n')"
   ]
  },
  {
   "cell_type": "code",
   "execution_count": 7,
   "metadata": {},
   "outputs": [
    {
     "data": {
      "text/plain": [
       "['ab c', '', 'de fg', 'kl']"
      ]
     },
     "execution_count": 7,
     "metadata": {},
     "output_type": "execute_result"
    },
    {
     "data": {
      "text/plain": [
       "['ab c\\n', '\\n', 'de fg\\r', 'kl\\r\\n']"
      ]
     },
     "execution_count": 7,
     "metadata": {},
     "output_type": "execute_result"
    }
   ],
   "source": [
    "'ab c\\n\\nde fg\\rkl\\r\\n'.splitlines()\n",
    "'ab c\\n\\nde fg\\rkl\\r\\n'.splitlines(keepends=True)"
   ]
  },
  {
   "cell_type": "code",
   "execution_count": null,
   "metadata": {},
   "outputs": [],
   "source": []
  },
  {
   "cell_type": "markdown",
   "metadata": {},
   "source": [
    "#### 删除\n",
    "\n",
    "|方法名|作用|\n",
    "|---|---|\n",
    "|`.strip([chars])`|删除首尾的：空白、换行符`\\n`、制表符`\\t`，若指定字符则删除特定字符|\n",
    "|`.rstrip([chars])`|删除结尾，内容同上|\n",
    "|`.lstrip([chars])`|删除结尾，内容同上|\n",
    "|`.expandtabs(tabsize=8)`|把字符串 string 中的 tab 符号转为空格，tab 符号默认的空格数是 8|\n",
    "|`str.removeprefix(pre, /)`|如以 `pre` 字符串开头，返回 `string[len(prefix):]`。 否则，返回`str`的副本|\n",
    "|`str.removesuffix(suf, /)`|如以 `suf` 字符串结尾，返回 `string[:-len(suffix)]`。 否则，返回`str`的副本|\n",
    "\n",
    "⚠️ 该类方法不改变原有字符串，生成字符串副本"
   ]
  },
  {
   "cell_type": "markdown",
   "metadata": {},
   "source": []
  },
  {
   "cell_type": "markdown",
   "metadata": {},
   "source": [
    "### 2.2 判断\n",
    "\n",
    "|方法|作用||\n",
    "|---|---|---|\n",
    "| `.isalnum()`|检查所有字符是否只有字母和数字|\n",
    "| `.isalpha()`|检查字符串之中是否只有字母|\n",
    "|`.isdecimal()`|`str`只包含十进制数字字符时返回 `True` |正整数 |\n",
    "| `.isdigit()`|`str`只包含数字字符时返回 `True`| 正整数 |\n",
    "|`.isnumeric()`|`str`只包含数字字符时返回 `True`| 范围更大的 Unicode 数字，如汉字数字 ½ |\n",
    "|`.isspace()`|`str`只包含空格` `时返回 `True`|空字符串会返回`False`|\n",
    "| `.istitle()`|检查字符串是不是只有首字母大写|\n",
    "| `.islower()`|检查字符串是否全部小写|\n",
    "| `.isupper()`|检查字符串是否全部大写|\n",
    "|`.isidentifier()`|`str`为有效标识符时返回 `True`|数字、字母、下划线且不能数字开头|\n",
    "|`.isprintable()`|是否可打印|不含Unicode库中不可打印的字符|\n",
    "\n",
    "\n",
    "|方法名|返回|作用|\n",
    "|---|---|---|\n",
    "|`.startswith(sub[, start[, end]])`|`True`/`False`|字符串开头是否为`sub`|\n",
    "|`.endswith(sub[, start[, end]])`|`True`/`False`|字符串结尾是否为`sub`|\n"
   ]
  },
  {
   "cell_type": "code",
   "execution_count": 18,
   "metadata": {},
   "outputs": [
    {
     "data": {
      "text/plain": [
       "True"
      ]
     },
     "execution_count": 18,
     "metadata": {},
     "output_type": "execute_result"
    }
   ],
   "source": [
    "' '.isspace()"
   ]
  },
  {
   "cell_type": "code",
   "execution_count": 24,
   "metadata": {},
   "outputs": [
    {
     "data": {
      "text/plain": [
       "'r-u-nn-o-o-b'"
      ]
     },
     "execution_count": 24,
     "metadata": {},
     "output_type": "execute_result"
    }
   ],
   "source": [
    "seq = (\"r\", \"u\", \"nn\", \"o\", \"o\", \"b\") # 字符串序列\n",
    "\"-\".join( seq )"
   ]
  },
  {
   "cell_type": "markdown",
   "metadata": {},
   "source": [
    "### 2.4 计数\n",
    "|方法|作用|\n",
    "|---|---|\n",
    "|`.count(subStr,pos1,pos2)`| 统计子字符串出现次数，可以指定位置，默认为全部|"
   ]
  },
  {
   "cell_type": "markdown",
   "metadata": {},
   "source": [
    "### 2.5 查找\n",
    "\n",
    "|方法名|返回|作用|\n",
    "|---|---|---|\n",
    "|`.find(s[, b[, e]])` |返回`s`在`str`中位置（开始的索引值），未找到则返回`-1` |\n",
    "|`.rfind(s[, b[, e]])`|返回s在字符串内被找到的最大（最右）索引，未找到则返回 -1|\n",
    "|`index(s[, b[, e]])` | 跟`find()`方法一样，只不过如果`s`不在`str`中会报一个异常 |\n",
    "`.rindex(s[, b[, e]])`|类似于`rfind()`，但在`sub`未找到时会引发 `ValueError`|\n",
    "\n",
    "\n",
    "\n",
    "\n",
    "\n",
    "ℹ️ 多次出现的值，只返回第一个值的位置"
   ]
  },
  {
   "cell_type": "code",
   "execution_count": 4,
   "metadata": {},
   "outputs": [
    {
     "data": {
      "text/plain": [
       "''"
      ]
     },
     "execution_count": 4,
     "metadata": {},
     "output_type": "execute_result"
    }
   ],
   "source": [
    "a = 'hheelloo'.strip('helo')\n",
    "a"
   ]
  },
  {
   "cell_type": "markdown",
   "metadata": {},
   "source": [
    "### 转换\n",
    "\n",
    "|方法|作用|\n",
    "|---|---|\n",
    "|`encode(encoding='UTF-8',errors='strict')`|以 encoding 指定的编码格式编码字符串，如果出错默认报一个ValueError 的异常，除非 errors 指定的是'ignore'或者'replace'|\n",
    "|`.maketrans()`| 创建字符映射的转换表，对于接受两个参数的最简单的调用方式，第一个参数是字符串，表示需要转换的字符，第二个参数也是字符串表示转换的目标。|\n",
    "|`.translate(table)`|返回原字符串的副本，其中每个字符按给定的转换表进行映射。 转换表必须是一个通过 __getitem__() 来实现索引操作的对象，通常为 mapping 或 sequence。 当以 Unicode 码位序号（整数）为索引时，转换表对象可以做以下任何一种操作：返回 Unicode 码位序号或字符串，将字符映射为一个或多个其他字符；返回 None，将字符从返回的字符串中删除；或引发 LookupError 异常，将字符映射为其自身。你可以使用 str.maketrans() 基于不同格式的字符到字符映射来创建一个转换映射表。另请参阅 codecs 模块以了解定制字符映射的更灵活方式。|"
   ]
  },
  {
   "cell_type": "markdown",
   "metadata": {},
   "source": [
    "### 格式化字符串\n",
    "\n",
    "#### 三种格式化方法：\n",
    "\n",
    "||格式|优点|缺点|\n",
    "|---|---|---|---|\n",
    "|`%-formatting`格式符|`%`占位|经典|可读性和可维护性差|\n",
    "|`str.format()`方法|`{:}`占位|不依赖位置传参|复杂，效率低，Python 2.6+|\n",
    "|`f-string`表达式|`f'{}'`|简洁明了，性能优|需要Python 3.6+|\n"
   ]
  },
  {
   "cell_type": "code",
   "execution_count": 24,
   "metadata": {},
   "outputs": [
    {
     "data": {
      "text/plain": [
       "'A is    10, B is 21.20.'"
      ]
     },
     "execution_count": 24,
     "metadata": {},
     "output_type": "execute_result"
    },
    {
     "data": {
      "text/plain": [
       "'A is    10, B is 21.20.'"
      ]
     },
     "execution_count": 24,
     "metadata": {},
     "output_type": "execute_result"
    },
    {
     "data": {
      "text/plain": [
       "'A is    10, B is 21.20.'"
      ]
     },
     "execution_count": 24,
     "metadata": {},
     "output_type": "execute_result"
    }
   ],
   "source": [
    "str1 = 'A is %5d, B is %5.2f.' % (10.6, 10.6*2)\n",
    "str2 = 'A is {:5d}, B is {:5.2f}.'.format(int(10.6), 10.6*2)\n",
    "str3 = f'A is {int(10.6):5d}, B is {10.6*2:5.2f}.'\n",
    "str1\n",
    "str2\n",
    "str3"
   ]
  },
  {
   "cell_type": "markdown",
   "metadata": {},
   "source": [
    "#### `f-string`表达式⭐\n",
    "\n",
    "格式化字符串常量**formatted string literals**是 Python 3.6 新引入的一种字符串格式化方法，使用`f`或`F`引领字符串，`' '`内是整个字符串，`{}`内包含要替换的字符串字段。\n",
    "\n",
    "`f-string`在本质上并不是字符串常量，`{}`内是一个在运行时运算求值的表达式，其中直接填入替换内容，`{}`中的内容可以为数据、变量、表达式、函数、方法，会将其运行结果替换格式\n",
    "\n",
    "1. 引号：大括号`{}`内所用的引号不能和大括号外的引号定界符冲突,可根据情况灵活切换`'`和`\"`，若`'`和`\"`不足以满足要求，还可以使用`'''`和`\"\"\"`\n",
    "2. 括号：大括号外如果需要显示大括号，则应输入连续两个大括号`{{`和`}}` \n",
    "3. 转义：大括号外的引号可以使用`\\`转义，但**大括号内不能使用**`\\`转义，如果确实需要`\\`，则应首先将包含`\\`的赋给变量，再在大括号内使用变量\n",
    "\n",
    "**3.12新特性：**\n",
    "\n",
    "1. 引号：可以使用相同引号\n",
    "2. 表达式：内部可以使用任何表达式\n",
    "3. 转义：可以直接使用`\\`转义。包括使用`unicode escape`添加Unicode字符\n",
    "4. 可以多行定义f-string\n"
   ]
  },
  {
   "cell_type": "code",
   "execution_count": 26,
   "metadata": {},
   "outputs": [
    {
     "data": {
      "text/plain": [
       "'This is the playlist: Take me back to Eden, Alkaline, Ascensionism'"
      ]
     },
     "execution_count": 26,
     "metadata": {},
     "output_type": "execute_result"
    },
    {
     "data": {
      "text/plain": [
       "'2'"
      ]
     },
     "execution_count": 26,
     "metadata": {},
     "output_type": "execute_result"
    },
    {
     "data": {
      "text/plain": [
       "'This is the playlist: Take me back to Eden\\nAlkaline\\nAscensionism'"
      ]
     },
     "execution_count": 26,
     "metadata": {},
     "output_type": "execute_result"
    },
    {
     "data": {
      "text/plain": [
       "'This is the playlist: Take me back to Eden♥Alkaline♥Ascensionism'"
      ]
     },
     "execution_count": 26,
     "metadata": {},
     "output_type": "execute_result"
    }
   ],
   "source": [
    "songs = ['Take me back to Eden', 'Alkaline', 'Ascensionism']\n",
    "f\"This is the playlist: {\", \".join(songs)}\"\n",
    "f\"{f\"{f\"{f\"{f\"{f\"{1+1}\"}\"}\"}\"}\"}\"\n"
   ]
  },
  {
   "cell_type": "code",
   "execution_count": 28,
   "metadata": {},
   "outputs": [
    {
     "name": "stdout",
     "output_type": "stream",
     "text": [
      "This is the playlist: Take me back to Eden\n",
      "Alkaline\n",
      "Ascensionism\n",
      "This is the playlist: Take me back to Eden♥Alkaline♥Ascensionism\n"
     ]
    }
   ],
   "source": [
    "print(f\"This is the playlist: {\"\\n\".join(songs)}\")  #打印回车\n",
    "print(f\"This is the playlist: {\"\\N{BLACK HEART SUIT}\".join(songs)}\") #Unicode字符"
   ]
  }
 ],
 "metadata": {
  "kernelspec": {
   "display_name": "ml",
   "language": "python",
   "name": "python3"
  },
  "language_info": {
   "codemirror_mode": {
    "name": "ipython",
    "version": 3
   },
   "file_extension": ".py",
   "mimetype": "text/x-python",
   "name": "python",
   "nbconvert_exporter": "python",
   "pygments_lexer": "ipython3",
   "version": "3.12.0"
  }
 },
 "nbformat": 4,
 "nbformat_minor": 0
}
